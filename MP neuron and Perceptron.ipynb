{
  "nbformat": 4,
  "nbformat_minor": 0,
  "metadata": {
    "colab": {
      "name": "mp_neuron.ipynb",
      "provenance": [],
      "authorship_tag": "ABX9TyMoRidGIbV13V2mf4p+MZAz",
      "include_colab_link": true
    },
    "kernelspec": {
      "name": "python3",
      "display_name": "Python 3"
    },
    "language_info": {
      "name": "python"
    }
  },
  "cells": [
    {
      "cell_type": "markdown",
      "metadata": {
        "id": "view-in-github",
        "colab_type": "text"
      },
      "source": [
        "<a href=\"https://colab.research.google.com/github/Shubhu2603/DeepLearning/blob/main/MP%20neuron%20and%20Perceptron.ipynb\" target=\"_parent\"><img src=\"https://colab.research.google.com/assets/colab-badge.svg\" alt=\"Open In Colab\"/></a>"
      ]
    },
    {
      "cell_type": "markdown",
      "source": [
        "# Loading Dataset"
      ],
      "metadata": {
        "id": "Wzue4svWxd7J"
      }
    },
    {
      "cell_type": "code",
      "execution_count": 661,
      "metadata": {
        "id": "KiTocDPqubnV"
      },
      "outputs": [],
      "source": [
        "import sklearn.datasets"
      ]
    },
    {
      "cell_type": "code",
      "source": [
        "import numpy as np"
      ],
      "metadata": {
        "id": "alVpbUDuus67"
      },
      "execution_count": 662,
      "outputs": []
    },
    {
      "cell_type": "code",
      "source": [
        "breast_cancer=sklearn.datasets.load_breast_cancer()"
      ],
      "metadata": {
        "id": "CAbN8fTIuxTX"
      },
      "execution_count": 663,
      "outputs": []
    },
    {
      "cell_type": "code",
      "source": [
        "X= breast_cancer.data\n",
        "Y= breast_cancer.target"
      ],
      "metadata": {
        "id": "AcKg3siuvFUM"
      },
      "execution_count": 664,
      "outputs": []
    },
    {
      "cell_type": "code",
      "source": [
        "print(X,Y\n",
        ")"
      ],
      "metadata": {
        "colab": {
          "base_uri": "https://localhost:8080/"
        },
        "id": "rmLV1i8zvT7u",
        "outputId": "8ddbdc68-e0fc-422a-d6a0-896085d77f9a"
      },
      "execution_count": 665,
      "outputs": [
        {
          "output_type": "stream",
          "name": "stdout",
          "text": [
            "[[1.799e+01 1.038e+01 1.228e+02 ... 2.654e-01 4.601e-01 1.189e-01]\n",
            " [2.057e+01 1.777e+01 1.329e+02 ... 1.860e-01 2.750e-01 8.902e-02]\n",
            " [1.969e+01 2.125e+01 1.300e+02 ... 2.430e-01 3.613e-01 8.758e-02]\n",
            " ...\n",
            " [1.660e+01 2.808e+01 1.083e+02 ... 1.418e-01 2.218e-01 7.820e-02]\n",
            " [2.060e+01 2.933e+01 1.401e+02 ... 2.650e-01 4.087e-01 1.240e-01]\n",
            " [7.760e+00 2.454e+01 4.792e+01 ... 0.000e+00 2.871e-01 7.039e-02]] [0 0 0 0 0 0 0 0 0 0 0 0 0 0 0 0 0 0 0 1 1 1 0 0 0 0 0 0 0 0 0 0 0 0 0 0 0\n",
            " 1 0 0 0 0 0 0 0 0 1 0 1 1 1 1 1 0 0 1 0 0 1 1 1 1 0 1 0 0 1 1 1 1 0 1 0 0\n",
            " 1 0 1 0 0 1 1 1 0 0 1 0 0 0 1 1 1 0 1 1 0 0 1 1 1 0 0 1 1 1 1 0 1 1 0 1 1\n",
            " 1 1 1 1 1 1 0 0 0 1 0 0 1 1 1 0 0 1 0 1 0 0 1 0 0 1 1 0 1 1 0 1 1 1 1 0 1\n",
            " 1 1 1 1 1 1 1 1 0 1 1 1 1 0 0 1 0 1 1 0 0 1 1 0 0 1 1 1 1 0 1 1 0 0 0 1 0\n",
            " 1 0 1 1 1 0 1 1 0 0 1 0 0 0 0 1 0 0 0 1 0 1 0 1 1 0 1 0 0 0 0 1 1 0 0 1 1\n",
            " 1 0 1 1 1 1 1 0 0 1 1 0 1 1 0 0 1 0 1 1 1 1 0 1 1 1 1 1 0 1 0 0 0 0 0 0 0\n",
            " 0 0 0 0 0 0 0 1 1 1 1 1 1 0 1 0 1 1 0 1 1 0 1 0 0 1 1 1 1 1 1 1 1 1 1 1 1\n",
            " 1 0 1 1 0 1 0 1 1 1 1 1 1 1 1 1 1 1 1 1 1 0 1 1 1 0 1 0 1 1 1 1 0 0 0 1 1\n",
            " 1 1 0 1 0 1 0 1 1 1 0 1 1 1 1 1 1 1 0 0 0 1 1 1 1 1 1 1 1 1 1 1 0 0 1 0 0\n",
            " 0 1 0 0 1 1 1 1 1 0 1 1 1 1 1 0 1 1 1 0 1 1 0 0 1 1 1 1 1 1 0 1 1 1 1 1 1\n",
            " 1 0 1 1 1 1 1 0 1 1 0 1 1 1 1 1 1 1 1 1 1 1 1 0 1 0 0 1 0 1 1 1 1 1 0 1 1\n",
            " 0 1 0 1 1 0 1 0 1 1 1 1 1 1 1 1 0 0 1 1 1 1 1 1 0 1 1 1 1 1 1 1 1 1 1 0 1\n",
            " 1 1 1 1 1 1 0 1 0 1 1 0 1 1 1 1 1 0 0 1 0 1 0 1 1 1 1 1 0 1 1 0 1 0 1 0 0\n",
            " 1 1 1 0 1 1 1 1 1 1 1 1 1 1 1 0 1 0 0 1 1 1 1 1 1 1 1 1 1 1 1 1 1 1 1 1 1\n",
            " 1 1 1 1 1 1 1 0 0 0 0 0 0 1]\n"
          ]
        }
      ]
    },
    {
      "cell_type": "code",
      "source": [
        "print(X.shape,Y.shape)"
      ],
      "metadata": {
        "colab": {
          "base_uri": "https://localhost:8080/"
        },
        "id": "XUgJa3XJvVHe",
        "outputId": "1aa923bd-2f4b-4c45-87f4-09e3e530493c"
      },
      "execution_count": 666,
      "outputs": [
        {
          "output_type": "stream",
          "name": "stdout",
          "text": [
            "(569, 30) (569,)\n"
          ]
        }
      ]
    },
    {
      "cell_type": "code",
      "source": [
        "import pandas as pd"
      ],
      "metadata": {
        "id": "GCsIjDYFvUOE"
      },
      "execution_count": 667,
      "outputs": []
    },
    {
      "cell_type": "code",
      "source": [
        "data=pd.DataFrame(breast_cancer.data,columns=breast_cancer.feature_names)"
      ],
      "metadata": {
        "id": "PoEdcUIFvxmK"
      },
      "execution_count": 668,
      "outputs": []
    },
    {
      "cell_type": "code",
      "source": [
        "data['class']=breast_cancer.target"
      ],
      "metadata": {
        "id": "5fbQJT-4wMcj"
      },
      "execution_count": 669,
      "outputs": []
    },
    {
      "cell_type": "code",
      "source": [
        "data.head()"
      ],
      "metadata": {
        "colab": {
          "base_uri": "https://localhost:8080/",
          "height": 305
        },
        "id": "dhW88JXbwSYE",
        "outputId": "fb263c25-7b38-4f26-91a4-8544487da4fb"
      },
      "execution_count": 670,
      "outputs": [
        {
          "output_type": "execute_result",
          "data": {
            "text/html": [
              "\n",
              "  <div id=\"df-85e0b83c-8549-4714-b9b0-c15ca0a0a9f4\">\n",
              "    <div class=\"colab-df-container\">\n",
              "      <div>\n",
              "<style scoped>\n",
              "    .dataframe tbody tr th:only-of-type {\n",
              "        vertical-align: middle;\n",
              "    }\n",
              "\n",
              "    .dataframe tbody tr th {\n",
              "        vertical-align: top;\n",
              "    }\n",
              "\n",
              "    .dataframe thead th {\n",
              "        text-align: right;\n",
              "    }\n",
              "</style>\n",
              "<table border=\"1\" class=\"dataframe\">\n",
              "  <thead>\n",
              "    <tr style=\"text-align: right;\">\n",
              "      <th></th>\n",
              "      <th>mean radius</th>\n",
              "      <th>mean texture</th>\n",
              "      <th>mean perimeter</th>\n",
              "      <th>mean area</th>\n",
              "      <th>mean smoothness</th>\n",
              "      <th>mean compactness</th>\n",
              "      <th>mean concavity</th>\n",
              "      <th>mean concave points</th>\n",
              "      <th>mean symmetry</th>\n",
              "      <th>mean fractal dimension</th>\n",
              "      <th>radius error</th>\n",
              "      <th>texture error</th>\n",
              "      <th>perimeter error</th>\n",
              "      <th>area error</th>\n",
              "      <th>smoothness error</th>\n",
              "      <th>compactness error</th>\n",
              "      <th>concavity error</th>\n",
              "      <th>concave points error</th>\n",
              "      <th>symmetry error</th>\n",
              "      <th>fractal dimension error</th>\n",
              "      <th>worst radius</th>\n",
              "      <th>worst texture</th>\n",
              "      <th>worst perimeter</th>\n",
              "      <th>worst area</th>\n",
              "      <th>worst smoothness</th>\n",
              "      <th>worst compactness</th>\n",
              "      <th>worst concavity</th>\n",
              "      <th>worst concave points</th>\n",
              "      <th>worst symmetry</th>\n",
              "      <th>worst fractal dimension</th>\n",
              "      <th>class</th>\n",
              "    </tr>\n",
              "  </thead>\n",
              "  <tbody>\n",
              "    <tr>\n",
              "      <th>0</th>\n",
              "      <td>17.99</td>\n",
              "      <td>10.38</td>\n",
              "      <td>122.80</td>\n",
              "      <td>1001.0</td>\n",
              "      <td>0.11840</td>\n",
              "      <td>0.27760</td>\n",
              "      <td>0.3001</td>\n",
              "      <td>0.14710</td>\n",
              "      <td>0.2419</td>\n",
              "      <td>0.07871</td>\n",
              "      <td>1.0950</td>\n",
              "      <td>0.9053</td>\n",
              "      <td>8.589</td>\n",
              "      <td>153.40</td>\n",
              "      <td>0.006399</td>\n",
              "      <td>0.04904</td>\n",
              "      <td>0.05373</td>\n",
              "      <td>0.01587</td>\n",
              "      <td>0.03003</td>\n",
              "      <td>0.006193</td>\n",
              "      <td>25.38</td>\n",
              "      <td>17.33</td>\n",
              "      <td>184.60</td>\n",
              "      <td>2019.0</td>\n",
              "      <td>0.1622</td>\n",
              "      <td>0.6656</td>\n",
              "      <td>0.7119</td>\n",
              "      <td>0.2654</td>\n",
              "      <td>0.4601</td>\n",
              "      <td>0.11890</td>\n",
              "      <td>0</td>\n",
              "    </tr>\n",
              "    <tr>\n",
              "      <th>1</th>\n",
              "      <td>20.57</td>\n",
              "      <td>17.77</td>\n",
              "      <td>132.90</td>\n",
              "      <td>1326.0</td>\n",
              "      <td>0.08474</td>\n",
              "      <td>0.07864</td>\n",
              "      <td>0.0869</td>\n",
              "      <td>0.07017</td>\n",
              "      <td>0.1812</td>\n",
              "      <td>0.05667</td>\n",
              "      <td>0.5435</td>\n",
              "      <td>0.7339</td>\n",
              "      <td>3.398</td>\n",
              "      <td>74.08</td>\n",
              "      <td>0.005225</td>\n",
              "      <td>0.01308</td>\n",
              "      <td>0.01860</td>\n",
              "      <td>0.01340</td>\n",
              "      <td>0.01389</td>\n",
              "      <td>0.003532</td>\n",
              "      <td>24.99</td>\n",
              "      <td>23.41</td>\n",
              "      <td>158.80</td>\n",
              "      <td>1956.0</td>\n",
              "      <td>0.1238</td>\n",
              "      <td>0.1866</td>\n",
              "      <td>0.2416</td>\n",
              "      <td>0.1860</td>\n",
              "      <td>0.2750</td>\n",
              "      <td>0.08902</td>\n",
              "      <td>0</td>\n",
              "    </tr>\n",
              "    <tr>\n",
              "      <th>2</th>\n",
              "      <td>19.69</td>\n",
              "      <td>21.25</td>\n",
              "      <td>130.00</td>\n",
              "      <td>1203.0</td>\n",
              "      <td>0.10960</td>\n",
              "      <td>0.15990</td>\n",
              "      <td>0.1974</td>\n",
              "      <td>0.12790</td>\n",
              "      <td>0.2069</td>\n",
              "      <td>0.05999</td>\n",
              "      <td>0.7456</td>\n",
              "      <td>0.7869</td>\n",
              "      <td>4.585</td>\n",
              "      <td>94.03</td>\n",
              "      <td>0.006150</td>\n",
              "      <td>0.04006</td>\n",
              "      <td>0.03832</td>\n",
              "      <td>0.02058</td>\n",
              "      <td>0.02250</td>\n",
              "      <td>0.004571</td>\n",
              "      <td>23.57</td>\n",
              "      <td>25.53</td>\n",
              "      <td>152.50</td>\n",
              "      <td>1709.0</td>\n",
              "      <td>0.1444</td>\n",
              "      <td>0.4245</td>\n",
              "      <td>0.4504</td>\n",
              "      <td>0.2430</td>\n",
              "      <td>0.3613</td>\n",
              "      <td>0.08758</td>\n",
              "      <td>0</td>\n",
              "    </tr>\n",
              "    <tr>\n",
              "      <th>3</th>\n",
              "      <td>11.42</td>\n",
              "      <td>20.38</td>\n",
              "      <td>77.58</td>\n",
              "      <td>386.1</td>\n",
              "      <td>0.14250</td>\n",
              "      <td>0.28390</td>\n",
              "      <td>0.2414</td>\n",
              "      <td>0.10520</td>\n",
              "      <td>0.2597</td>\n",
              "      <td>0.09744</td>\n",
              "      <td>0.4956</td>\n",
              "      <td>1.1560</td>\n",
              "      <td>3.445</td>\n",
              "      <td>27.23</td>\n",
              "      <td>0.009110</td>\n",
              "      <td>0.07458</td>\n",
              "      <td>0.05661</td>\n",
              "      <td>0.01867</td>\n",
              "      <td>0.05963</td>\n",
              "      <td>0.009208</td>\n",
              "      <td>14.91</td>\n",
              "      <td>26.50</td>\n",
              "      <td>98.87</td>\n",
              "      <td>567.7</td>\n",
              "      <td>0.2098</td>\n",
              "      <td>0.8663</td>\n",
              "      <td>0.6869</td>\n",
              "      <td>0.2575</td>\n",
              "      <td>0.6638</td>\n",
              "      <td>0.17300</td>\n",
              "      <td>0</td>\n",
              "    </tr>\n",
              "    <tr>\n",
              "      <th>4</th>\n",
              "      <td>20.29</td>\n",
              "      <td>14.34</td>\n",
              "      <td>135.10</td>\n",
              "      <td>1297.0</td>\n",
              "      <td>0.10030</td>\n",
              "      <td>0.13280</td>\n",
              "      <td>0.1980</td>\n",
              "      <td>0.10430</td>\n",
              "      <td>0.1809</td>\n",
              "      <td>0.05883</td>\n",
              "      <td>0.7572</td>\n",
              "      <td>0.7813</td>\n",
              "      <td>5.438</td>\n",
              "      <td>94.44</td>\n",
              "      <td>0.011490</td>\n",
              "      <td>0.02461</td>\n",
              "      <td>0.05688</td>\n",
              "      <td>0.01885</td>\n",
              "      <td>0.01756</td>\n",
              "      <td>0.005115</td>\n",
              "      <td>22.54</td>\n",
              "      <td>16.67</td>\n",
              "      <td>152.20</td>\n",
              "      <td>1575.0</td>\n",
              "      <td>0.1374</td>\n",
              "      <td>0.2050</td>\n",
              "      <td>0.4000</td>\n",
              "      <td>0.1625</td>\n",
              "      <td>0.2364</td>\n",
              "      <td>0.07678</td>\n",
              "      <td>0</td>\n",
              "    </tr>\n",
              "  </tbody>\n",
              "</table>\n",
              "</div>\n",
              "      <button class=\"colab-df-convert\" onclick=\"convertToInteractive('df-85e0b83c-8549-4714-b9b0-c15ca0a0a9f4')\"\n",
              "              title=\"Convert this dataframe to an interactive table.\"\n",
              "              style=\"display:none;\">\n",
              "        \n",
              "  <svg xmlns=\"http://www.w3.org/2000/svg\" height=\"24px\"viewBox=\"0 0 24 24\"\n",
              "       width=\"24px\">\n",
              "    <path d=\"M0 0h24v24H0V0z\" fill=\"none\"/>\n",
              "    <path d=\"M18.56 5.44l.94 2.06.94-2.06 2.06-.94-2.06-.94-.94-2.06-.94 2.06-2.06.94zm-11 1L8.5 8.5l.94-2.06 2.06-.94-2.06-.94L8.5 2.5l-.94 2.06-2.06.94zm10 10l.94 2.06.94-2.06 2.06-.94-2.06-.94-.94-2.06-.94 2.06-2.06.94z\"/><path d=\"M17.41 7.96l-1.37-1.37c-.4-.4-.92-.59-1.43-.59-.52 0-1.04.2-1.43.59L10.3 9.45l-7.72 7.72c-.78.78-.78 2.05 0 2.83L4 21.41c.39.39.9.59 1.41.59.51 0 1.02-.2 1.41-.59l7.78-7.78 2.81-2.81c.8-.78.8-2.07 0-2.86zM5.41 20L4 18.59l7.72-7.72 1.47 1.35L5.41 20z\"/>\n",
              "  </svg>\n",
              "      </button>\n",
              "      \n",
              "  <style>\n",
              "    .colab-df-container {\n",
              "      display:flex;\n",
              "      flex-wrap:wrap;\n",
              "      gap: 12px;\n",
              "    }\n",
              "\n",
              "    .colab-df-convert {\n",
              "      background-color: #E8F0FE;\n",
              "      border: none;\n",
              "      border-radius: 50%;\n",
              "      cursor: pointer;\n",
              "      display: none;\n",
              "      fill: #1967D2;\n",
              "      height: 32px;\n",
              "      padding: 0 0 0 0;\n",
              "      width: 32px;\n",
              "    }\n",
              "\n",
              "    .colab-df-convert:hover {\n",
              "      background-color: #E2EBFA;\n",
              "      box-shadow: 0px 1px 2px rgba(60, 64, 67, 0.3), 0px 1px 3px 1px rgba(60, 64, 67, 0.15);\n",
              "      fill: #174EA6;\n",
              "    }\n",
              "\n",
              "    [theme=dark] .colab-df-convert {\n",
              "      background-color: #3B4455;\n",
              "      fill: #D2E3FC;\n",
              "    }\n",
              "\n",
              "    [theme=dark] .colab-df-convert:hover {\n",
              "      background-color: #434B5C;\n",
              "      box-shadow: 0px 1px 3px 1px rgba(0, 0, 0, 0.15);\n",
              "      filter: drop-shadow(0px 1px 2px rgba(0, 0, 0, 0.3));\n",
              "      fill: #FFFFFF;\n",
              "    }\n",
              "  </style>\n",
              "\n",
              "      <script>\n",
              "        const buttonEl =\n",
              "          document.querySelector('#df-85e0b83c-8549-4714-b9b0-c15ca0a0a9f4 button.colab-df-convert');\n",
              "        buttonEl.style.display =\n",
              "          google.colab.kernel.accessAllowed ? 'block' : 'none';\n",
              "\n",
              "        async function convertToInteractive(key) {\n",
              "          const element = document.querySelector('#df-85e0b83c-8549-4714-b9b0-c15ca0a0a9f4');\n",
              "          const dataTable =\n",
              "            await google.colab.kernel.invokeFunction('convertToInteractive',\n",
              "                                                     [key], {});\n",
              "          if (!dataTable) return;\n",
              "\n",
              "          const docLinkHtml = 'Like what you see? Visit the ' +\n",
              "            '<a target=\"_blank\" href=https://colab.research.google.com/notebooks/data_table.ipynb>data table notebook</a>'\n",
              "            + ' to learn more about interactive tables.';\n",
              "          element.innerHTML = '';\n",
              "          dataTable['output_type'] = 'display_data';\n",
              "          await google.colab.output.renderOutput(dataTable, element);\n",
              "          const docLink = document.createElement('div');\n",
              "          docLink.innerHTML = docLinkHtml;\n",
              "          element.appendChild(docLink);\n",
              "        }\n",
              "      </script>\n",
              "    </div>\n",
              "  </div>\n",
              "  "
            ],
            "text/plain": [
              "   mean radius  mean texture  ...  worst fractal dimension  class\n",
              "0        17.99         10.38  ...                  0.11890      0\n",
              "1        20.57         17.77  ...                  0.08902      0\n",
              "2        19.69         21.25  ...                  0.08758      0\n",
              "3        11.42         20.38  ...                  0.17300      0\n",
              "4        20.29         14.34  ...                  0.07678      0\n",
              "\n",
              "[5 rows x 31 columns]"
            ]
          },
          "metadata": {},
          "execution_count": 670
        }
      ]
    },
    {
      "cell_type": "code",
      "source": [
        "data.describe()"
      ],
      "metadata": {
        "colab": {
          "base_uri": "https://localhost:8080/",
          "height": 399
        },
        "id": "WROZ6TIBwawg",
        "outputId": "2035a88d-8e58-4d03-8e5a-46dd307ca43f"
      },
      "execution_count": 671,
      "outputs": [
        {
          "output_type": "execute_result",
          "data": {
            "text/html": [
              "\n",
              "  <div id=\"df-001d1290-0ad8-43c5-b847-fb59a16923d9\">\n",
              "    <div class=\"colab-df-container\">\n",
              "      <div>\n",
              "<style scoped>\n",
              "    .dataframe tbody tr th:only-of-type {\n",
              "        vertical-align: middle;\n",
              "    }\n",
              "\n",
              "    .dataframe tbody tr th {\n",
              "        vertical-align: top;\n",
              "    }\n",
              "\n",
              "    .dataframe thead th {\n",
              "        text-align: right;\n",
              "    }\n",
              "</style>\n",
              "<table border=\"1\" class=\"dataframe\">\n",
              "  <thead>\n",
              "    <tr style=\"text-align: right;\">\n",
              "      <th></th>\n",
              "      <th>mean radius</th>\n",
              "      <th>mean texture</th>\n",
              "      <th>mean perimeter</th>\n",
              "      <th>mean area</th>\n",
              "      <th>mean smoothness</th>\n",
              "      <th>mean compactness</th>\n",
              "      <th>mean concavity</th>\n",
              "      <th>mean concave points</th>\n",
              "      <th>mean symmetry</th>\n",
              "      <th>mean fractal dimension</th>\n",
              "      <th>radius error</th>\n",
              "      <th>texture error</th>\n",
              "      <th>perimeter error</th>\n",
              "      <th>area error</th>\n",
              "      <th>smoothness error</th>\n",
              "      <th>compactness error</th>\n",
              "      <th>concavity error</th>\n",
              "      <th>concave points error</th>\n",
              "      <th>symmetry error</th>\n",
              "      <th>fractal dimension error</th>\n",
              "      <th>worst radius</th>\n",
              "      <th>worst texture</th>\n",
              "      <th>worst perimeter</th>\n",
              "      <th>worst area</th>\n",
              "      <th>worst smoothness</th>\n",
              "      <th>worst compactness</th>\n",
              "      <th>worst concavity</th>\n",
              "      <th>worst concave points</th>\n",
              "      <th>worst symmetry</th>\n",
              "      <th>worst fractal dimension</th>\n",
              "      <th>class</th>\n",
              "    </tr>\n",
              "  </thead>\n",
              "  <tbody>\n",
              "    <tr>\n",
              "      <th>count</th>\n",
              "      <td>569.000000</td>\n",
              "      <td>569.000000</td>\n",
              "      <td>569.000000</td>\n",
              "      <td>569.000000</td>\n",
              "      <td>569.000000</td>\n",
              "      <td>569.000000</td>\n",
              "      <td>569.000000</td>\n",
              "      <td>569.000000</td>\n",
              "      <td>569.000000</td>\n",
              "      <td>569.000000</td>\n",
              "      <td>569.000000</td>\n",
              "      <td>569.000000</td>\n",
              "      <td>569.000000</td>\n",
              "      <td>569.000000</td>\n",
              "      <td>569.000000</td>\n",
              "      <td>569.000000</td>\n",
              "      <td>569.000000</td>\n",
              "      <td>569.000000</td>\n",
              "      <td>569.000000</td>\n",
              "      <td>569.000000</td>\n",
              "      <td>569.000000</td>\n",
              "      <td>569.000000</td>\n",
              "      <td>569.000000</td>\n",
              "      <td>569.000000</td>\n",
              "      <td>569.000000</td>\n",
              "      <td>569.000000</td>\n",
              "      <td>569.000000</td>\n",
              "      <td>569.000000</td>\n",
              "      <td>569.000000</td>\n",
              "      <td>569.000000</td>\n",
              "      <td>569.000000</td>\n",
              "    </tr>\n",
              "    <tr>\n",
              "      <th>mean</th>\n",
              "      <td>14.127292</td>\n",
              "      <td>19.289649</td>\n",
              "      <td>91.969033</td>\n",
              "      <td>654.889104</td>\n",
              "      <td>0.096360</td>\n",
              "      <td>0.104341</td>\n",
              "      <td>0.088799</td>\n",
              "      <td>0.048919</td>\n",
              "      <td>0.181162</td>\n",
              "      <td>0.062798</td>\n",
              "      <td>0.405172</td>\n",
              "      <td>1.216853</td>\n",
              "      <td>2.866059</td>\n",
              "      <td>40.337079</td>\n",
              "      <td>0.007041</td>\n",
              "      <td>0.025478</td>\n",
              "      <td>0.031894</td>\n",
              "      <td>0.011796</td>\n",
              "      <td>0.020542</td>\n",
              "      <td>0.003795</td>\n",
              "      <td>16.269190</td>\n",
              "      <td>25.677223</td>\n",
              "      <td>107.261213</td>\n",
              "      <td>880.583128</td>\n",
              "      <td>0.132369</td>\n",
              "      <td>0.254265</td>\n",
              "      <td>0.272188</td>\n",
              "      <td>0.114606</td>\n",
              "      <td>0.290076</td>\n",
              "      <td>0.083946</td>\n",
              "      <td>0.627417</td>\n",
              "    </tr>\n",
              "    <tr>\n",
              "      <th>std</th>\n",
              "      <td>3.524049</td>\n",
              "      <td>4.301036</td>\n",
              "      <td>24.298981</td>\n",
              "      <td>351.914129</td>\n",
              "      <td>0.014064</td>\n",
              "      <td>0.052813</td>\n",
              "      <td>0.079720</td>\n",
              "      <td>0.038803</td>\n",
              "      <td>0.027414</td>\n",
              "      <td>0.007060</td>\n",
              "      <td>0.277313</td>\n",
              "      <td>0.551648</td>\n",
              "      <td>2.021855</td>\n",
              "      <td>45.491006</td>\n",
              "      <td>0.003003</td>\n",
              "      <td>0.017908</td>\n",
              "      <td>0.030186</td>\n",
              "      <td>0.006170</td>\n",
              "      <td>0.008266</td>\n",
              "      <td>0.002646</td>\n",
              "      <td>4.833242</td>\n",
              "      <td>6.146258</td>\n",
              "      <td>33.602542</td>\n",
              "      <td>569.356993</td>\n",
              "      <td>0.022832</td>\n",
              "      <td>0.157336</td>\n",
              "      <td>0.208624</td>\n",
              "      <td>0.065732</td>\n",
              "      <td>0.061867</td>\n",
              "      <td>0.018061</td>\n",
              "      <td>0.483918</td>\n",
              "    </tr>\n",
              "    <tr>\n",
              "      <th>min</th>\n",
              "      <td>6.981000</td>\n",
              "      <td>9.710000</td>\n",
              "      <td>43.790000</td>\n",
              "      <td>143.500000</td>\n",
              "      <td>0.052630</td>\n",
              "      <td>0.019380</td>\n",
              "      <td>0.000000</td>\n",
              "      <td>0.000000</td>\n",
              "      <td>0.106000</td>\n",
              "      <td>0.049960</td>\n",
              "      <td>0.111500</td>\n",
              "      <td>0.360200</td>\n",
              "      <td>0.757000</td>\n",
              "      <td>6.802000</td>\n",
              "      <td>0.001713</td>\n",
              "      <td>0.002252</td>\n",
              "      <td>0.000000</td>\n",
              "      <td>0.000000</td>\n",
              "      <td>0.007882</td>\n",
              "      <td>0.000895</td>\n",
              "      <td>7.930000</td>\n",
              "      <td>12.020000</td>\n",
              "      <td>50.410000</td>\n",
              "      <td>185.200000</td>\n",
              "      <td>0.071170</td>\n",
              "      <td>0.027290</td>\n",
              "      <td>0.000000</td>\n",
              "      <td>0.000000</td>\n",
              "      <td>0.156500</td>\n",
              "      <td>0.055040</td>\n",
              "      <td>0.000000</td>\n",
              "    </tr>\n",
              "    <tr>\n",
              "      <th>25%</th>\n",
              "      <td>11.700000</td>\n",
              "      <td>16.170000</td>\n",
              "      <td>75.170000</td>\n",
              "      <td>420.300000</td>\n",
              "      <td>0.086370</td>\n",
              "      <td>0.064920</td>\n",
              "      <td>0.029560</td>\n",
              "      <td>0.020310</td>\n",
              "      <td>0.161900</td>\n",
              "      <td>0.057700</td>\n",
              "      <td>0.232400</td>\n",
              "      <td>0.833900</td>\n",
              "      <td>1.606000</td>\n",
              "      <td>17.850000</td>\n",
              "      <td>0.005169</td>\n",
              "      <td>0.013080</td>\n",
              "      <td>0.015090</td>\n",
              "      <td>0.007638</td>\n",
              "      <td>0.015160</td>\n",
              "      <td>0.002248</td>\n",
              "      <td>13.010000</td>\n",
              "      <td>21.080000</td>\n",
              "      <td>84.110000</td>\n",
              "      <td>515.300000</td>\n",
              "      <td>0.116600</td>\n",
              "      <td>0.147200</td>\n",
              "      <td>0.114500</td>\n",
              "      <td>0.064930</td>\n",
              "      <td>0.250400</td>\n",
              "      <td>0.071460</td>\n",
              "      <td>0.000000</td>\n",
              "    </tr>\n",
              "    <tr>\n",
              "      <th>50%</th>\n",
              "      <td>13.370000</td>\n",
              "      <td>18.840000</td>\n",
              "      <td>86.240000</td>\n",
              "      <td>551.100000</td>\n",
              "      <td>0.095870</td>\n",
              "      <td>0.092630</td>\n",
              "      <td>0.061540</td>\n",
              "      <td>0.033500</td>\n",
              "      <td>0.179200</td>\n",
              "      <td>0.061540</td>\n",
              "      <td>0.324200</td>\n",
              "      <td>1.108000</td>\n",
              "      <td>2.287000</td>\n",
              "      <td>24.530000</td>\n",
              "      <td>0.006380</td>\n",
              "      <td>0.020450</td>\n",
              "      <td>0.025890</td>\n",
              "      <td>0.010930</td>\n",
              "      <td>0.018730</td>\n",
              "      <td>0.003187</td>\n",
              "      <td>14.970000</td>\n",
              "      <td>25.410000</td>\n",
              "      <td>97.660000</td>\n",
              "      <td>686.500000</td>\n",
              "      <td>0.131300</td>\n",
              "      <td>0.211900</td>\n",
              "      <td>0.226700</td>\n",
              "      <td>0.099930</td>\n",
              "      <td>0.282200</td>\n",
              "      <td>0.080040</td>\n",
              "      <td>1.000000</td>\n",
              "    </tr>\n",
              "    <tr>\n",
              "      <th>75%</th>\n",
              "      <td>15.780000</td>\n",
              "      <td>21.800000</td>\n",
              "      <td>104.100000</td>\n",
              "      <td>782.700000</td>\n",
              "      <td>0.105300</td>\n",
              "      <td>0.130400</td>\n",
              "      <td>0.130700</td>\n",
              "      <td>0.074000</td>\n",
              "      <td>0.195700</td>\n",
              "      <td>0.066120</td>\n",
              "      <td>0.478900</td>\n",
              "      <td>1.474000</td>\n",
              "      <td>3.357000</td>\n",
              "      <td>45.190000</td>\n",
              "      <td>0.008146</td>\n",
              "      <td>0.032450</td>\n",
              "      <td>0.042050</td>\n",
              "      <td>0.014710</td>\n",
              "      <td>0.023480</td>\n",
              "      <td>0.004558</td>\n",
              "      <td>18.790000</td>\n",
              "      <td>29.720000</td>\n",
              "      <td>125.400000</td>\n",
              "      <td>1084.000000</td>\n",
              "      <td>0.146000</td>\n",
              "      <td>0.339100</td>\n",
              "      <td>0.382900</td>\n",
              "      <td>0.161400</td>\n",
              "      <td>0.317900</td>\n",
              "      <td>0.092080</td>\n",
              "      <td>1.000000</td>\n",
              "    </tr>\n",
              "    <tr>\n",
              "      <th>max</th>\n",
              "      <td>28.110000</td>\n",
              "      <td>39.280000</td>\n",
              "      <td>188.500000</td>\n",
              "      <td>2501.000000</td>\n",
              "      <td>0.163400</td>\n",
              "      <td>0.345400</td>\n",
              "      <td>0.426800</td>\n",
              "      <td>0.201200</td>\n",
              "      <td>0.304000</td>\n",
              "      <td>0.097440</td>\n",
              "      <td>2.873000</td>\n",
              "      <td>4.885000</td>\n",
              "      <td>21.980000</td>\n",
              "      <td>542.200000</td>\n",
              "      <td>0.031130</td>\n",
              "      <td>0.135400</td>\n",
              "      <td>0.396000</td>\n",
              "      <td>0.052790</td>\n",
              "      <td>0.078950</td>\n",
              "      <td>0.029840</td>\n",
              "      <td>36.040000</td>\n",
              "      <td>49.540000</td>\n",
              "      <td>251.200000</td>\n",
              "      <td>4254.000000</td>\n",
              "      <td>0.222600</td>\n",
              "      <td>1.058000</td>\n",
              "      <td>1.252000</td>\n",
              "      <td>0.291000</td>\n",
              "      <td>0.663800</td>\n",
              "      <td>0.207500</td>\n",
              "      <td>1.000000</td>\n",
              "    </tr>\n",
              "  </tbody>\n",
              "</table>\n",
              "</div>\n",
              "      <button class=\"colab-df-convert\" onclick=\"convertToInteractive('df-001d1290-0ad8-43c5-b847-fb59a16923d9')\"\n",
              "              title=\"Convert this dataframe to an interactive table.\"\n",
              "              style=\"display:none;\">\n",
              "        \n",
              "  <svg xmlns=\"http://www.w3.org/2000/svg\" height=\"24px\"viewBox=\"0 0 24 24\"\n",
              "       width=\"24px\">\n",
              "    <path d=\"M0 0h24v24H0V0z\" fill=\"none\"/>\n",
              "    <path d=\"M18.56 5.44l.94 2.06.94-2.06 2.06-.94-2.06-.94-.94-2.06-.94 2.06-2.06.94zm-11 1L8.5 8.5l.94-2.06 2.06-.94-2.06-.94L8.5 2.5l-.94 2.06-2.06.94zm10 10l.94 2.06.94-2.06 2.06-.94-2.06-.94-.94-2.06-.94 2.06-2.06.94z\"/><path d=\"M17.41 7.96l-1.37-1.37c-.4-.4-.92-.59-1.43-.59-.52 0-1.04.2-1.43.59L10.3 9.45l-7.72 7.72c-.78.78-.78 2.05 0 2.83L4 21.41c.39.39.9.59 1.41.59.51 0 1.02-.2 1.41-.59l7.78-7.78 2.81-2.81c.8-.78.8-2.07 0-2.86zM5.41 20L4 18.59l7.72-7.72 1.47 1.35L5.41 20z\"/>\n",
              "  </svg>\n",
              "      </button>\n",
              "      \n",
              "  <style>\n",
              "    .colab-df-container {\n",
              "      display:flex;\n",
              "      flex-wrap:wrap;\n",
              "      gap: 12px;\n",
              "    }\n",
              "\n",
              "    .colab-df-convert {\n",
              "      background-color: #E8F0FE;\n",
              "      border: none;\n",
              "      border-radius: 50%;\n",
              "      cursor: pointer;\n",
              "      display: none;\n",
              "      fill: #1967D2;\n",
              "      height: 32px;\n",
              "      padding: 0 0 0 0;\n",
              "      width: 32px;\n",
              "    }\n",
              "\n",
              "    .colab-df-convert:hover {\n",
              "      background-color: #E2EBFA;\n",
              "      box-shadow: 0px 1px 2px rgba(60, 64, 67, 0.3), 0px 1px 3px 1px rgba(60, 64, 67, 0.15);\n",
              "      fill: #174EA6;\n",
              "    }\n",
              "\n",
              "    [theme=dark] .colab-df-convert {\n",
              "      background-color: #3B4455;\n",
              "      fill: #D2E3FC;\n",
              "    }\n",
              "\n",
              "    [theme=dark] .colab-df-convert:hover {\n",
              "      background-color: #434B5C;\n",
              "      box-shadow: 0px 1px 3px 1px rgba(0, 0, 0, 0.15);\n",
              "      filter: drop-shadow(0px 1px 2px rgba(0, 0, 0, 0.3));\n",
              "      fill: #FFFFFF;\n",
              "    }\n",
              "  </style>\n",
              "\n",
              "      <script>\n",
              "        const buttonEl =\n",
              "          document.querySelector('#df-001d1290-0ad8-43c5-b847-fb59a16923d9 button.colab-df-convert');\n",
              "        buttonEl.style.display =\n",
              "          google.colab.kernel.accessAllowed ? 'block' : 'none';\n",
              "\n",
              "        async function convertToInteractive(key) {\n",
              "          const element = document.querySelector('#df-001d1290-0ad8-43c5-b847-fb59a16923d9');\n",
              "          const dataTable =\n",
              "            await google.colab.kernel.invokeFunction('convertToInteractive',\n",
              "                                                     [key], {});\n",
              "          if (!dataTable) return;\n",
              "\n",
              "          const docLinkHtml = 'Like what you see? Visit the ' +\n",
              "            '<a target=\"_blank\" href=https://colab.research.google.com/notebooks/data_table.ipynb>data table notebook</a>'\n",
              "            + ' to learn more about interactive tables.';\n",
              "          element.innerHTML = '';\n",
              "          dataTable['output_type'] = 'display_data';\n",
              "          await google.colab.output.renderOutput(dataTable, element);\n",
              "          const docLink = document.createElement('div');\n",
              "          docLink.innerHTML = docLinkHtml;\n",
              "          element.appendChild(docLink);\n",
              "        }\n",
              "      </script>\n",
              "    </div>\n",
              "  </div>\n",
              "  "
            ],
            "text/plain": [
              "       mean radius  mean texture  ...  worst fractal dimension       class\n",
              "count   569.000000    569.000000  ...               569.000000  569.000000\n",
              "mean     14.127292     19.289649  ...                 0.083946    0.627417\n",
              "std       3.524049      4.301036  ...                 0.018061    0.483918\n",
              "min       6.981000      9.710000  ...                 0.055040    0.000000\n",
              "25%      11.700000     16.170000  ...                 0.071460    0.000000\n",
              "50%      13.370000     18.840000  ...                 0.080040    1.000000\n",
              "75%      15.780000     21.800000  ...                 0.092080    1.000000\n",
              "max      28.110000     39.280000  ...                 0.207500    1.000000\n",
              "\n",
              "[8 rows x 31 columns]"
            ]
          },
          "metadata": {},
          "execution_count": 671
        }
      ]
    },
    {
      "cell_type": "code",
      "source": [
        "print(data['class'].value_counts())"
      ],
      "metadata": {
        "colab": {
          "base_uri": "https://localhost:8080/"
        },
        "id": "koto_vZawj1x",
        "outputId": "842f716f-7213-4ff6-a660-6c4077038b2f"
      },
      "execution_count": 672,
      "outputs": [
        {
          "output_type": "stream",
          "name": "stdout",
          "text": [
            "1    357\n",
            "0    212\n",
            "Name: class, dtype: int64\n"
          ]
        }
      ]
    },
    {
      "cell_type": "code",
      "source": [
        "print(breast_cancer.target_names )"
      ],
      "metadata": {
        "colab": {
          "base_uri": "https://localhost:8080/"
        },
        "id": "meBQ1eiSwtra",
        "outputId": "c10fe7a0-1371-4152-8ef5-bc8ef3186482"
      },
      "execution_count": 673,
      "outputs": [
        {
          "output_type": "stream",
          "name": "stdout",
          "text": [
            "['malignant' 'benign']\n"
          ]
        }
      ]
    },
    {
      "cell_type": "code",
      "source": [
        "data.groupby('class').mean()"
      ],
      "metadata": {
        "colab": {
          "base_uri": "https://localhost:8080/",
          "height": 242
        },
        "id": "d9Z0-hz1w1hb",
        "outputId": "0572559a-8725-4ca5-efb2-9b3742bd21e5"
      },
      "execution_count": 674,
      "outputs": [
        {
          "output_type": "execute_result",
          "data": {
            "text/html": [
              "\n",
              "  <div id=\"df-e28afc24-ca7e-4bde-baeb-82b05e09d19a\">\n",
              "    <div class=\"colab-df-container\">\n",
              "      <div>\n",
              "<style scoped>\n",
              "    .dataframe tbody tr th:only-of-type {\n",
              "        vertical-align: middle;\n",
              "    }\n",
              "\n",
              "    .dataframe tbody tr th {\n",
              "        vertical-align: top;\n",
              "    }\n",
              "\n",
              "    .dataframe thead th {\n",
              "        text-align: right;\n",
              "    }\n",
              "</style>\n",
              "<table border=\"1\" class=\"dataframe\">\n",
              "  <thead>\n",
              "    <tr style=\"text-align: right;\">\n",
              "      <th></th>\n",
              "      <th>mean radius</th>\n",
              "      <th>mean texture</th>\n",
              "      <th>mean perimeter</th>\n",
              "      <th>mean area</th>\n",
              "      <th>mean smoothness</th>\n",
              "      <th>mean compactness</th>\n",
              "      <th>mean concavity</th>\n",
              "      <th>mean concave points</th>\n",
              "      <th>mean symmetry</th>\n",
              "      <th>mean fractal dimension</th>\n",
              "      <th>radius error</th>\n",
              "      <th>texture error</th>\n",
              "      <th>perimeter error</th>\n",
              "      <th>area error</th>\n",
              "      <th>smoothness error</th>\n",
              "      <th>compactness error</th>\n",
              "      <th>concavity error</th>\n",
              "      <th>concave points error</th>\n",
              "      <th>symmetry error</th>\n",
              "      <th>fractal dimension error</th>\n",
              "      <th>worst radius</th>\n",
              "      <th>worst texture</th>\n",
              "      <th>worst perimeter</th>\n",
              "      <th>worst area</th>\n",
              "      <th>worst smoothness</th>\n",
              "      <th>worst compactness</th>\n",
              "      <th>worst concavity</th>\n",
              "      <th>worst concave points</th>\n",
              "      <th>worst symmetry</th>\n",
              "      <th>worst fractal dimension</th>\n",
              "    </tr>\n",
              "    <tr>\n",
              "      <th>class</th>\n",
              "      <th></th>\n",
              "      <th></th>\n",
              "      <th></th>\n",
              "      <th></th>\n",
              "      <th></th>\n",
              "      <th></th>\n",
              "      <th></th>\n",
              "      <th></th>\n",
              "      <th></th>\n",
              "      <th></th>\n",
              "      <th></th>\n",
              "      <th></th>\n",
              "      <th></th>\n",
              "      <th></th>\n",
              "      <th></th>\n",
              "      <th></th>\n",
              "      <th></th>\n",
              "      <th></th>\n",
              "      <th></th>\n",
              "      <th></th>\n",
              "      <th></th>\n",
              "      <th></th>\n",
              "      <th></th>\n",
              "      <th></th>\n",
              "      <th></th>\n",
              "      <th></th>\n",
              "      <th></th>\n",
              "      <th></th>\n",
              "      <th></th>\n",
              "      <th></th>\n",
              "    </tr>\n",
              "  </thead>\n",
              "  <tbody>\n",
              "    <tr>\n",
              "      <th>0</th>\n",
              "      <td>17.462830</td>\n",
              "      <td>21.604906</td>\n",
              "      <td>115.365377</td>\n",
              "      <td>978.376415</td>\n",
              "      <td>0.102898</td>\n",
              "      <td>0.145188</td>\n",
              "      <td>0.160775</td>\n",
              "      <td>0.087990</td>\n",
              "      <td>0.192909</td>\n",
              "      <td>0.062680</td>\n",
              "      <td>0.609083</td>\n",
              "      <td>1.210915</td>\n",
              "      <td>4.323929</td>\n",
              "      <td>72.672406</td>\n",
              "      <td>0.006780</td>\n",
              "      <td>0.032281</td>\n",
              "      <td>0.041824</td>\n",
              "      <td>0.015060</td>\n",
              "      <td>0.020472</td>\n",
              "      <td>0.004062</td>\n",
              "      <td>21.134811</td>\n",
              "      <td>29.318208</td>\n",
              "      <td>141.370330</td>\n",
              "      <td>1422.286321</td>\n",
              "      <td>0.144845</td>\n",
              "      <td>0.374824</td>\n",
              "      <td>0.450606</td>\n",
              "      <td>0.182237</td>\n",
              "      <td>0.323468</td>\n",
              "      <td>0.091530</td>\n",
              "    </tr>\n",
              "    <tr>\n",
              "      <th>1</th>\n",
              "      <td>12.146524</td>\n",
              "      <td>17.914762</td>\n",
              "      <td>78.075406</td>\n",
              "      <td>462.790196</td>\n",
              "      <td>0.092478</td>\n",
              "      <td>0.080085</td>\n",
              "      <td>0.046058</td>\n",
              "      <td>0.025717</td>\n",
              "      <td>0.174186</td>\n",
              "      <td>0.062867</td>\n",
              "      <td>0.284082</td>\n",
              "      <td>1.220380</td>\n",
              "      <td>2.000321</td>\n",
              "      <td>21.135148</td>\n",
              "      <td>0.007196</td>\n",
              "      <td>0.021438</td>\n",
              "      <td>0.025997</td>\n",
              "      <td>0.009858</td>\n",
              "      <td>0.020584</td>\n",
              "      <td>0.003636</td>\n",
              "      <td>13.379801</td>\n",
              "      <td>23.515070</td>\n",
              "      <td>87.005938</td>\n",
              "      <td>558.899440</td>\n",
              "      <td>0.124959</td>\n",
              "      <td>0.182673</td>\n",
              "      <td>0.166238</td>\n",
              "      <td>0.074444</td>\n",
              "      <td>0.270246</td>\n",
              "      <td>0.079442</td>\n",
              "    </tr>\n",
              "  </tbody>\n",
              "</table>\n",
              "</div>\n",
              "      <button class=\"colab-df-convert\" onclick=\"convertToInteractive('df-e28afc24-ca7e-4bde-baeb-82b05e09d19a')\"\n",
              "              title=\"Convert this dataframe to an interactive table.\"\n",
              "              style=\"display:none;\">\n",
              "        \n",
              "  <svg xmlns=\"http://www.w3.org/2000/svg\" height=\"24px\"viewBox=\"0 0 24 24\"\n",
              "       width=\"24px\">\n",
              "    <path d=\"M0 0h24v24H0V0z\" fill=\"none\"/>\n",
              "    <path d=\"M18.56 5.44l.94 2.06.94-2.06 2.06-.94-2.06-.94-.94-2.06-.94 2.06-2.06.94zm-11 1L8.5 8.5l.94-2.06 2.06-.94-2.06-.94L8.5 2.5l-.94 2.06-2.06.94zm10 10l.94 2.06.94-2.06 2.06-.94-2.06-.94-.94-2.06-.94 2.06-2.06.94z\"/><path d=\"M17.41 7.96l-1.37-1.37c-.4-.4-.92-.59-1.43-.59-.52 0-1.04.2-1.43.59L10.3 9.45l-7.72 7.72c-.78.78-.78 2.05 0 2.83L4 21.41c.39.39.9.59 1.41.59.51 0 1.02-.2 1.41-.59l7.78-7.78 2.81-2.81c.8-.78.8-2.07 0-2.86zM5.41 20L4 18.59l7.72-7.72 1.47 1.35L5.41 20z\"/>\n",
              "  </svg>\n",
              "      </button>\n",
              "      \n",
              "  <style>\n",
              "    .colab-df-container {\n",
              "      display:flex;\n",
              "      flex-wrap:wrap;\n",
              "      gap: 12px;\n",
              "    }\n",
              "\n",
              "    .colab-df-convert {\n",
              "      background-color: #E8F0FE;\n",
              "      border: none;\n",
              "      border-radius: 50%;\n",
              "      cursor: pointer;\n",
              "      display: none;\n",
              "      fill: #1967D2;\n",
              "      height: 32px;\n",
              "      padding: 0 0 0 0;\n",
              "      width: 32px;\n",
              "    }\n",
              "\n",
              "    .colab-df-convert:hover {\n",
              "      background-color: #E2EBFA;\n",
              "      box-shadow: 0px 1px 2px rgba(60, 64, 67, 0.3), 0px 1px 3px 1px rgba(60, 64, 67, 0.15);\n",
              "      fill: #174EA6;\n",
              "    }\n",
              "\n",
              "    [theme=dark] .colab-df-convert {\n",
              "      background-color: #3B4455;\n",
              "      fill: #D2E3FC;\n",
              "    }\n",
              "\n",
              "    [theme=dark] .colab-df-convert:hover {\n",
              "      background-color: #434B5C;\n",
              "      box-shadow: 0px 1px 3px 1px rgba(0, 0, 0, 0.15);\n",
              "      filter: drop-shadow(0px 1px 2px rgba(0, 0, 0, 0.3));\n",
              "      fill: #FFFFFF;\n",
              "    }\n",
              "  </style>\n",
              "\n",
              "      <script>\n",
              "        const buttonEl =\n",
              "          document.querySelector('#df-e28afc24-ca7e-4bde-baeb-82b05e09d19a button.colab-df-convert');\n",
              "        buttonEl.style.display =\n",
              "          google.colab.kernel.accessAllowed ? 'block' : 'none';\n",
              "\n",
              "        async function convertToInteractive(key) {\n",
              "          const element = document.querySelector('#df-e28afc24-ca7e-4bde-baeb-82b05e09d19a');\n",
              "          const dataTable =\n",
              "            await google.colab.kernel.invokeFunction('convertToInteractive',\n",
              "                                                     [key], {});\n",
              "          if (!dataTable) return;\n",
              "\n",
              "          const docLinkHtml = 'Like what you see? Visit the ' +\n",
              "            '<a target=\"_blank\" href=https://colab.research.google.com/notebooks/data_table.ipynb>data table notebook</a>'\n",
              "            + ' to learn more about interactive tables.';\n",
              "          element.innerHTML = '';\n",
              "          dataTable['output_type'] = 'display_data';\n",
              "          await google.colab.output.renderOutput(dataTable, element);\n",
              "          const docLink = document.createElement('div');\n",
              "          docLink.innerHTML = docLinkHtml;\n",
              "          element.appendChild(docLink);\n",
              "        }\n",
              "      </script>\n",
              "    </div>\n",
              "  </div>\n",
              "  "
            ],
            "text/plain": [
              "       mean radius  mean texture  ...  worst symmetry  worst fractal dimension\n",
              "class                             ...                                         \n",
              "0        17.462830     21.604906  ...        0.323468                 0.091530\n",
              "1        12.146524     17.914762  ...        0.270246                 0.079442\n",
              "\n",
              "[2 rows x 30 columns]"
            ]
          },
          "metadata": {},
          "execution_count": 674
        }
      ]
    },
    {
      "cell_type": "markdown",
      "source": [
        "# Train Test Split"
      ],
      "metadata": {
        "id": "4atCpVN2xaYd"
      }
    },
    {
      "cell_type": "code",
      "source": [
        "from sklearn.model_selection import train_test_split"
      ],
      "metadata": {
        "id": "uzhFV3-Cxofn"
      },
      "execution_count": 675,
      "outputs": []
    },
    {
      "cell_type": "code",
      "source": [
        "X=data.drop('class',axis=1)\n",
        "Y=data['class']"
      ],
      "metadata": {
        "id": "Hip63Q9YyJ4r"
      },
      "execution_count": 676,
      "outputs": []
    },
    {
      "cell_type": "code",
      "source": [
        "X_train, X_test, Y_train, Y_test=train_test_split(X,Y,test_size=0.1,stratify=Y,random_state=1)"
      ],
      "metadata": {
        "id": "tdWNym_UySei"
      },
      "execution_count": 677,
      "outputs": []
    },
    {
      "cell_type": "code",
      "source": [
        "print(X.shape,X_train.shape,X_test.shape)"
      ],
      "metadata": {
        "colab": {
          "base_uri": "https://localhost:8080/"
        },
        "id": "57yU78_UygaI",
        "outputId": "2a72daed-3233-4ed7-8b3f-c1b1f6d150fe"
      },
      "execution_count": 678,
      "outputs": [
        {
          "output_type": "stream",
          "name": "stdout",
          "text": [
            "(569, 30) (512, 30) (57, 30)\n"
          ]
        }
      ]
    },
    {
      "cell_type": "code",
      "source": [
        "print(Y.mean(),Y_train.mean(),Y_test.mean() )"
      ],
      "metadata": {
        "colab": {
          "base_uri": "https://localhost:8080/"
        },
        "id": "ye5kRmvQzBPW",
        "outputId": "8feb2bb1-e3c3-4fe0-85e2-162b85bd1898"
      },
      "execution_count": 679,
      "outputs": [
        {
          "output_type": "stream",
          "name": "stdout",
          "text": [
            "0.6274165202108963 0.626953125 0.631578947368421\n"
          ]
        }
      ]
    },
    {
      "cell_type": "markdown",
      "source": [
        "# Binarization of Input"
      ],
      "metadata": {
        "id": "B_-OztHC0Zvf"
      }
    },
    {
      "cell_type": "code",
      "source": [
        "import matplotlib.pyplot as plt\n",
        "from sklearn.metrics import accuracy_score"
      ],
      "metadata": {
        "id": "dgALlud40d_x"
      },
      "execution_count": 680,
      "outputs": []
    },
    {
      "cell_type": "code",
      "source": [
        "plt.plot(X_train.T,'*')\n",
        "plt.xticks(rotation='vertical')\n",
        "plt.show()"
      ],
      "metadata": {
        "colab": {
          "base_uri": "https://localhost:8080/",
          "height": 54
        },
        "id": "2pHpqnNv0nFP",
        "outputId": "6c661ecc-673e-47c1-cee6-20a623e48f34"
      },
      "execution_count": 681,
      "outputs": [
        {
          "output_type": "display_data",
          "data": {
            "image/png": "[encoded data removed]",
            "text/plain": [
              "<Figure size 432x288 with 1 Axes>"
            ]
          },
          "metadata": {
            "needs_background": "light"
          }
        }
      ]
    },
    {
      "cell_type": "code",
      "source": [
        "X_Binarised_3_train=X_train['mean area'].map(lambda x: 0 if x<1000 else 1)"
      ],
      "metadata": {
        "id": "jVYSeU4z1ZBp"
      },
      "execution_count": 682,
      "outputs": []
    },
    {
      "cell_type": "code",
      "source": [
        "plt.plot(X_Binarised_3_train,'*')"
      ],
      "metadata": {
        "colab": {
          "base_uri": "https://localhost:8080/",
          "height": 73
        },
        "id": "LN2ci7tS1oOb",
        "outputId": "a266761f-bffd-492c-8b92-08b7d1b17082"
      },
      "execution_count": 683,
      "outputs": [
        {
          "output_type": "execute_result",
          "data": {
            "text/plain": [
              "[<matplotlib.lines.Line2D at 0x7ff8c8ca2e10>]"
            ]
          },
          "metadata": {},
          "execution_count": 683
        },
        {
          "output_type": "display_data",
          "data": {
            "image/png": "[encoded data removed]",
            "text/plain": [
              "<Figure size 432x288 with 1 Axes>"
            ]
          },
          "metadata": {
            "needs_background": "light"
          }
        }
      ]
    },
    {
      "cell_type": "code",
      "source": [
        "X_binarised_test=X_test.apply(pd.cut,bins=2,labels=[1,0])"
      ],
      "metadata": {
        "id": "GZwBy8H13JTR"
      },
      "execution_count": 684,
      "outputs": []
    },
    {
      "cell_type": "code",
      "source": [
        "X_binarised_train=X_train.apply(pd.cut,bins=2,labels=[1,0])"
      ],
      "metadata": {
        "id": "MKAZfY2FK5Ic"
      },
      "execution_count": 685,
      "outputs": []
    },
    {
      "cell_type": "code",
      "source": [
        "X_binarised_test=X_binarised_test.values\n",
        "X_binarised_train=X_binarised_train.values"
      ],
      "metadata": {
        "id": "-SobRkvn33dF"
      },
      "execution_count": 686,
      "outputs": []
    },
    {
      "cell_type": "code",
      "source": [
        "b=3\n",
        "\n",
        "Y_pred_train=[]\n",
        "accurate_rows=0\n",
        "\n",
        "for x,y in zip(X_binarised_train, Y_train):\n",
        "  Y_pred=(np.sum(x)>=b)\n",
        "  Y_pred_train.append(Y_pred)\n",
        "  accurate_rows+=(y==Y_pred)\n",
        "\n",
        "print(accurate_rows,accurate_rows/X_binarised_train.shape[0])\n",
        "\n"
      ],
      "metadata": {
        "colab": {
          "base_uri": "https://localhost:8080/"
        },
        "id": "6e0WgzubJjR6",
        "outputId": "ecb24da0-21d5-4cd8-c63d-8cd06af1cad3"
      },
      "execution_count": 687,
      "outputs": [
        {
          "output_type": "stream",
          "name": "stdout",
          "text": [
            "321 0.626953125\n"
          ]
        }
      ]
    },
    {
      "cell_type": "code",
      "source": [
        "for b in range(X_binarised_train.shape[1]+1):\n",
        "  Y_pred_train=[]\n",
        "  accurate_rows=0\n",
        "  for x,y in zip(X_binarised_train, Y_train):\n",
        "    Y_pred=(np.sum(x)>=b)\n",
        "    Y_pred_train.append(Y_pred)\n",
        "    accurate_rows+=(y==Y_pred)\n",
        "  print(b,accurate_rows/X_binarised_train.shape[0])"
      ],
      "metadata": {
        "colab": {
          "base_uri": "https://localhost:8080/"
        },
        "id": "zcOjJsdjJwOg",
        "outputId": "352b5c62-3c92-4f2c-f7f2-1ebf73851d9b"
      },
      "execution_count": 688,
      "outputs": [
        {
          "output_type": "stream",
          "name": "stdout",
          "text": [
            "0 0.626953125\n",
            "1 0.626953125\n",
            "2 0.626953125\n",
            "3 0.626953125\n",
            "4 0.626953125\n",
            "5 0.626953125\n",
            "6 0.626953125\n",
            "7 0.626953125\n",
            "8 0.626953125\n",
            "9 0.626953125\n",
            "10 0.626953125\n",
            "11 0.626953125\n",
            "12 0.626953125\n",
            "13 0.626953125\n",
            "14 0.630859375\n",
            "15 0.6328125\n",
            "16 0.642578125\n",
            "17 0.6484375\n",
            "18 0.65625\n",
            "19 0.6640625\n",
            "20 0.671875\n",
            "21 0.6875\n",
            "22 0.701171875\n",
            "23 0.724609375\n",
            "24 0.755859375\n",
            "25 0.78515625\n",
            "26 0.818359375\n",
            "27 0.845703125\n",
            "28 0.849609375\n",
            "29 0.814453125\n",
            "30 0.759765625\n"
          ]
        }
      ]
    },
    {
      "cell_type": "code",
      "source": [
        "b=28\n",
        "y_pred_test=[]\n",
        "\n",
        "for x in X_binarised_test:\n",
        "  y_pred=(np.sum(x)>=b)\n",
        "  y_pred_test.append(y_pred)\n",
        "\n",
        "accuracy=accuracy_score(y_pred_test,Y_test)\n",
        "print(b,accuracy*100,\"%\")"
      ],
      "metadata": {
        "colab": {
          "base_uri": "https://localhost:8080/"
        },
        "id": "JPf7-jjZOiFy",
        "outputId": "ccb9468e-7a4d-4a76-bf0b-f089986dc23d"
      },
      "execution_count": 689,
      "outputs": [
        {
          "output_type": "stream",
          "name": "stdout",
          "text": [
            "28 78.94736842105263 %\n"
          ]
        }
      ]
    },
    {
      "cell_type": "markdown",
      "source": [
        "# MP Neuron Class"
      ],
      "metadata": {
        "id": "4LzpchhuTKL-"
      }
    },
    {
      "cell_type": "code",
      "source": [
        "class MPNeuron:\n",
        "\n",
        "  def __init__(self):\n",
        "      self.b=None\n",
        "  \n",
        "\n",
        "  def model(self,x):\n",
        "    return (sum(x)>=self.b)\n",
        "  \n",
        "  def predict(self,X):\n",
        "    Y=[]\n",
        "    for x in X:\n",
        "      result=self.model(x)\n",
        "      Y.append(result)\n",
        "    return np.array(Y)\n",
        "  \n",
        "  def fit(self,X,Y):\n",
        "    accuracy={}\n",
        "\n",
        "    for b in range(X.shape[1]+1):\n",
        "      self.b=b\n",
        "      Y_pred=self.predict(X)\n",
        "      accuracy[b]=accuracy_score(Y_pred,Y)\n",
        "    \n",
        "    best_b=max(accuracy,key=accuracy.get)\n",
        "    self.b=best_b\n",
        "\n",
        "    print(\"Optimal value of b is\", best_b)\n",
        "    print(\"Highest accuracy is\", accuracy[best_b])"
      ],
      "metadata": {
        "id": "NdHe1eDOTM1x"
      },
      "execution_count": 690,
      "outputs": []
    },
    {
      "cell_type": "code",
      "source": [
        "mpneuron=MPNeuron()\n",
        "mpneuron.fit(X_binarised_train,Y_train)"
      ],
      "metadata": {
        "colab": {
          "base_uri": "https://localhost:8080/"
        },
        "id": "182CrHubVe8N",
        "outputId": "6398e4ef-2828-4585-a8b1-07a2c6514e1c"
      },
      "execution_count": 691,
      "outputs": [
        {
          "output_type": "stream",
          "name": "stdout",
          "text": [
            "Optimal value of b is 28\n",
            "Highest accuracy is 0.849609375\n"
          ]
        }
      ]
    },
    {
      "cell_type": "code",
      "source": [
        "Y_test_pred=mpneuron.predict(X_binarised_test)\n",
        "accuracy_test=accuracy_score(Y_test_pred,Y_test)"
      ],
      "metadata": {
        "id": "CqomUruKV8Xs"
      },
      "execution_count": 692,
      "outputs": []
    },
    {
      "cell_type": "code",
      "source": [
        "print(accuracy_test)"
      ],
      "metadata": {
        "colab": {
          "base_uri": "https://localhost:8080/"
        },
        "id": "REL-y2moWZyM",
        "outputId": "b02028e1-acbe-4dd4-b824-a41c0b2d8374"
      },
      "execution_count": 693,
      "outputs": [
        {
          "output_type": "stream",
          "name": "stdout",
          "text": [
            "0.7894736842105263\n"
          ]
        }
      ]
    },
    {
      "cell_type": "markdown",
      "source": [
        "#Perceptron Class\n"
      ],
      "metadata": {
        "id": "ZamY9xFQc40C"
      }
    },
    {
      "cell_type": "markdown",
      "source": [
        "$y=1, \\mbox{if} \\sum_i  w_i x_i >=b$\n",
        "\n",
        "$y=0, \\mbox{otherwise}$"
      ],
      "metadata": {
        "id": "K758bfCPdAqh"
      }
    },
    {
      "cell_type": "code",
      "source": [
        "import numpy as np\n",
        "class Perceptron:\n",
        "\n",
        "  def __init__(self):\n",
        "    self.w=None\n",
        "    self.b=None\n",
        "\n",
        "  def model(self,x):\n",
        "    return 1 if  (np.dot(self.w,x)>=self.b) else 0\n",
        "\n",
        "  def predict(self,X):\n",
        "    Y=[]\n",
        "    for x in X:\n",
        "      result=self.model(x)\n",
        "      Y.append(result)\n",
        "    return np.array(Y)\n",
        "\n",
        "  def fit(self,X,Y,epochs=1,lr=1):\n",
        "    self.w=np.ones(X.shape[1])\n",
        "    self.b=0\n",
        "\n",
        "    accuracy={}\n",
        "    max_accuracy=0\n",
        "\n",
        "    wt_matrix=[]\n",
        "\n",
        "    for i in range(epochs):\n",
        "      for x,y in zip(X,Y):\n",
        "        y_pred=self.model(x)\n",
        "        if y==1 and y_pred==0:\n",
        "          self.w=self.w+lr*x\n",
        "          self.b=self.b=lr*1\n",
        "        elif y==0 and y_pred==1:\n",
        "          self.w=self.w-lr*x\n",
        "          self.b=self.b-lr*1\n",
        "\n",
        "      wt_matrix.append(self.w)\n",
        "      accuracy[i]=accuracy_score(self.predict(X),Y)\n",
        "      if(accuracy[i]>max_accuracy):\n",
        "        max_accuracy=accuracy[i]\n",
        "        chkptw=self.w\n",
        "        chkptb=self.b\n",
        "    \n",
        "    self.w=chkptw\n",
        "    self.b=chkptb\n",
        "\n",
        "    print(max_accuracy)\n",
        "    plt.plot(np.array(list(accuracy.values())).astype(float))\n",
        "    plt.ylim([0,1])\n",
        "    plt.show()\n",
        "    \n",
        "    return np.array(wt_matrix)"
      ],
      "metadata": {
        "id": "RWq2g4b1dPwU"
      },
      "execution_count": 694,
      "outputs": []
    },
    {
      "cell_type": "code",
      "source": [
        "perceptron=Perceptron()"
      ],
      "metadata": {
        "id": "6G9COl6hgA4G"
      },
      "execution_count": 695,
      "outputs": []
    },
    {
      "cell_type": "code",
      "source": [
        "X_train=X_train.values\n",
        "X_test=X_test.values"
      ],
      "metadata": {
        "id": "-sMRzBFBgEPZ"
      },
      "execution_count": 696,
      "outputs": []
    },
    {
      "cell_type": "code",
      "source": [
        "wt_matrix=perceptron.fit(X_train,Y_train,100)"
      ],
      "metadata": {
        "colab": {
          "base_uri": "https://localhost:8080/",
          "height": 287
        },
        "id": "-NtWVzwpgcts",
        "outputId": "fcaeb9d7-45ba-4583-f1b2-2ec07f5d3d11"
      },
      "execution_count": 697,
      "outputs": [
        {
          "output_type": "stream",
          "name": "stdout",
          "text": [
            "0.92578125\n"
          ]
        },
        {
          "output_type": "display_data",
          "data": {
            "image/png": "[encoded data removed]",
            "text/plain": [
              "<Figure size 432x288 with 1 Axes>"
            ]
          },
          "metadata": {
            "needs_background": "light"
          }
        }
      ]
    },
    {
      "cell_type": "code",
      "source": [
        "Y_pred_train=perceptron.predict(X_train)\n",
        "print(accuracy_score(Y_pred_train,Y_train))"
      ],
      "metadata": {
        "colab": {
          "base_uri": "https://localhost:8080/"
        },
        "id": "2zACKHfqsVkR",
        "outputId": "39ca18ad-3484-4689-a931-5d8e5663f877"
      },
      "execution_count": 698,
      "outputs": [
        {
          "output_type": "stream",
          "name": "stdout",
          "text": [
            "0.92578125\n"
          ]
        }
      ]
    },
    {
      "cell_type": "code",
      "source": [
        "y_pred_test=perceptron.predict(X_test)\n",
        "print(accuracy_score(y_pred_test,Y_test))"
      ],
      "metadata": {
        "colab": {
          "base_uri": "https://localhost:8080/"
        },
        "id": "7vBwLi5BsrYb",
        "outputId": "84796722-fa06-446d-92bd-34e48cea64a1"
      },
      "execution_count": 699,
      "outputs": [
        {
          "output_type": "stream",
          "name": "stdout",
          "text": [
            "0.9473684210526315\n"
          ]
        }
      ]
    },
    {
      "cell_type": "code",
      "source": [
        "plt.plot(wt_matrix[-1,:])\n",
        "plt.show()"
      ],
      "metadata": {
        "colab": {
          "base_uri": "https://localhost:8080/",
          "height": 265
        },
        "id": "Ly5CanI02ILt",
        "outputId": "363ba03f-4291-41e8-9c8a-737e3d795b31"
      },
      "execution_count": 700,
      "outputs": [
        {
          "output_type": "display_data",
          "data": {
            "image/png": "[encoded data removed]",
            "text/plain": [
              "<Figure size 432x288 with 1 Axes>"
            ]
          },
          "metadata": {
            "needs_background": "light"
          }
        }
      ]
    },
    {
      "cell_type": "code",
      "source": [
        "%matplotlib inline\n",
        "\n",
        "from matplotlib import animation, rc\n",
        "from IPython.display import HTML"
      ],
      "metadata": {
        "id": "MLh6iyDY5Di2"
      },
      "execution_count": 701,
      "outputs": []
    },
    {
      "cell_type": "code",
      "source": [
        "# First set up the figure, the axis, and the plot element we want to animate\n",
        "fig, ax = plt.subplots()\n",
        "\n",
        "ax.set_xlim(( 0, wt_matrix.shape[1]))\n",
        "ax.set_ylim((-10000, 25000))\n",
        "\n",
        "line, = ax.plot([], [], lw=2)"
      ],
      "metadata": {
        "colab": {
          "base_uri": "https://localhost:8080/",
          "height": 269
        },
        "id": "0ba92IzQ2-aq",
        "outputId": "30b09ed0-70b0-4034-9eaa-3b2813437b10"
      },
      "execution_count": 702,
      "outputs": [
        {
          "output_type": "display_data",
          "data": {
            "image/png": "[encoded data removed]",
            "text/plain": [
              "<Figure size 432x288 with 1 Axes>"
            ]
          },
          "metadata": {
            "needs_background": "light"
          }
        }
      ]
    },
    {
      "cell_type": "code",
      "source": [
        "# animation function. This is called sequentially\n",
        "def animate(i):\n",
        "    x = list(range(wt_matrix.shape[1]))\n",
        "    y = wt_matrix[i,:]\n",
        "    line.set_data(x, y)\n",
        "    return (line,)"
      ],
      "metadata": {
        "id": "wjzSov763C4j"
      },
      "execution_count": 710,
      "outputs": []
    },
    {
      "cell_type": "code",
      "source": [
        "# call the animator. blit=True means only re-draw the parts that have changed.\n",
        "anim = animation.FuncAnimation(fig, animate,frames=100, interval=200, blit=True)"
      ],
      "metadata": {
        "id": "q0I40KKg3Gsm"
      },
      "execution_count": 711,
      "outputs": []
    },
    {
      "cell_type": "code",
      "source": [
        "HTML(anim.to_html5_video())"
      ],
      "metadata": {
        "colab": {
          "base_uri": "https://localhost:8080/",
          "height": 309
        },
        "id": "ci6w9biU3L2U",
        "outputId": "8312fb1c-98ff-454f-cd95-8a622d7e7727"
      },
      "execution_count": 712,
      "outputs": [
        {
          "output_type": "execute_result",
          "data": {
            "text/html": [
              "<video width=\"432\" height=\"288\" controls autoplay loop>\n",
              "  <source type=\"video/mp4\" src=\"data:video/mp4;base64,AAAAHGZ0eXBNNFYgAAACAGlzb21pc28yYXZjMQAAAAhmcmVlAACD0G1kYXQAAAKtBgX//6ncRem9\n",
              "5tlIt5Ys2CDZI+7veDI2NCAtIGNvcmUgMTUyIHIyODU0IGU5YTU5MDMgLSBILjI2NC9NUEVHLTQg\n",
              "QVZDIGNvZGVjIC0gQ29weWxlZnQgMjAwMy0yMDE3IC0gaHR0cDovL3d3dy52aWRlb2xhbi5vcmcv\n",
              "eDI2NC5odG1sIC0gb3B0aW9uczogY2FiYWM9MSByZWY9MyBkZWJsb2NrPTE6MDowIGFuYWx5c2U9\n",
              "MHgzOjB4MTEzIG1lPWhleCBzdWJtZT03IHBzeT0xIHBzeV9yZD0xLjAwOjAuMDAgbWl4ZWRfcmVm\n",
              "PTEgbWVfcmFuZ2U9MTYgY2hyb21hX21lPTEgdHJlbGxpcz0xIDh4OGRjdD0xIGNxbT0wIGRlYWR6\n",
              "b25lPTIxLDExIGZhc3RfcHNraXA9MSBjaHJvbWFfcXBfb2Zmc2V0PS0yIHRocmVhZHM9MyBsb29r\n",
              "YWhlYWRfdGhyZWFkcz0xIHNsaWNlZF90aHJlYWRzPTAgbnI9MCBkZWNpbWF0ZT0xIGludGVybGFj\n",
              "ZWQ9MCBibHVyYXlfY29tcGF0PTAgY29uc3RyYWluZWRfaW50cmE9MCBiZnJhbWVzPTMgYl9weXJh\n",
              "bWlkPTIgYl9hZGFwdD0xIGJfYmlhcz0wIGRpcmVjdD0xIHdlaWdodGI9MSBvcGVuX2dvcD0wIHdl\n",
              "aWdodHA9MiBrZXlpbnQ9MjUwIGtleWludF9taW49NSBzY2VuZWN1dD00MCBpbnRyYV9yZWZyZXNo\n",
              "PTAgcmNfbG9va2FoZWFkPTQwIHJjPWNyZiBtYnRyZWU9MSBjcmY9MjMuMCBxY29tcD0wLjYwIHFw\n",
              "bWluPTAgcXBtYXg9NjkgcXBzdGVwPTQgaXBfcmF0aW89MS40MCBhcT0xOjEuMDAAgAAAEc9liIQA\n",
              "Ev/+963fgU3AQO1rulc4tMurlDQ9UfaUpni2SAAAAwADlGX8OsidmA88y6GZ/02b2g1gjvLH4xTy\n",
              "2fmUGzfV9ZvyIPYmqrCcmekF02fBENtN882c8j8QE2tyBs1WnoR/slNLhn5TRelWS/9cLLoFcr7H\n",
              "HJ7V73RnK6L+vkur0JyIhZgaXyn/gq2d+r2IkXF/g+83w+AMa+bWulIQAAAYByXzwH/pSc3EK3DJ\n",
              "HrSjkvXOhRXq9XPKf8BRMbnZ+5aMyhKsdTA8008IUQsnFZBA5VnZ+azPkbt3VqPcE88+IAeDC0Ql\n",
              "1zYi+Y4PQdsPYL3USLhQBDI2eLfTL7SjsHVO0jcEguKgQFQ3Lfbo+rSx7e88L6cQHv/0GhxAmn0G\n",
              "ZKPyJfVg+xKtqSLidd/vU6faKI4d56jR0yMDhixrUZJfJwjSBn/AYhk+sbowmpDkaVbH8QKkrtp9\n",
              "lt4imkjEQ9HX8R5TEBBwirbj8CSsWugGUbys0uTNNBh+d81pQq+pWjUGvHAJZEfzK2J/G8B6HE3I\n",
              "cyZngvU6mStBsImOeIcksqQuv5ao07qY4Llmxk1pgYFAAFUBNihPSOaxTmQccgGtOe74j57bmQc+\n",
              "HZR2bDTil3+gmqW3doQjznjbd/9uEb8/z2QZYmtFknY6bpX4oaNsDM4u9F+U8j8N4xpEOQmKkLzV\n",
              "bcLzj+euH13t4pQiNbmdqng5OtAnew0S1nD2ZnMy5dQyQiW2knZafR9pJzrOp1D4xobqlaOq1SQi\n",
              "0EtMPGqGjFQtrh+ABdjbs9ASE1z/fo/A51d34yUHlCjBp7+NpNHKvsA8O/A907Gu0wmgBrNeT1W3\n",
              "MgxSuB+EveoDVMQHVgkNXha/6SNIs3LkBbd0nUmWmFzEmj2FUuV0upW3/VW+7shGZhy3ENIhy52E\n",
              "wlttANjwv7svjjivbHpZA0+L3/qbouF7NC9PbLopuB1GAY1oNpMpxuo+F1zszhbOgP2ipHSf/CRS\n",
              "bsnHEBJaPz2iHyh67bzYU2YfKDpbavPwbj6q78+ZpD6YhT0HXxsvoW8oPHJHSCR4iLzjb5IAUkpi\n",
              "tIPhYipCPDfqxWIXjP0/kSS1zlMYTLBL1GhE15YN0o4FzjMQ1sxT131kDwE2NErd8uLWiE3i2bcs\n",
              "hG9EDaBTR1DOEJdz6l1g++gywQlEgDGh5nddOdZvzsBZoqXFAToG7HlkR/aILHqVTanAAPiU8nPN\n",
              "Jy3EdtO/vCNywBh1lqyC9Bpp3N3QNVwsdgW9gXoArEkH00JhhbxdoIP7zzTF9I+liWQu4PRKOuGc\n",
              "VTvQKljDFlWxoU8C3t2WgqZjJlt7Ja/LR4Mqz4YBzWUeFwzCKKz0v07hX0o7nVlU/aOLwGqf1Md9\n",
              "h0PgG3hW0zgSDUEDMx4dk9rtDYU3NOnRaCbLiyx9VozRHlJBpbiGs9A/GQ7W9BsLLQiEAKFWoIvj\n",
              "rHWm6lWuVtt9tsT0zpzsZWiFEn10KB7/VxotOi3qBGxyHZSUkGb+nV8lsE6hoFaqHiUW9e1J4tS8\n",
              "VLbE2YIzgM9qM2bNn3akRtLq9R/yZnqlERhQZf0xAn2zAhbHGtzv/pb+ZnXm81F3d4R2Ofz675De\n",
              "OSgMsNU7BcFBSZ6EAe7GCWSxjjxuAAj8Uifu74nJK+sQp7sScGQrfUG7xIRkaDW0YHkq0sQAae61\n",
              "rbQ5yhZQkPZTyjjHeBwBPvKu9ALT023gGmgJZmDasG+Xozopj9oyRxFMHuZHihDlqqhnTQILDUiM\n",
              "RsPlSgR23RoLZcXqcaD3dz1Dg7wfs5DZUYU/vJ19MKDsmKDk8hgPNHaKdPh7Z0eBca/5C5JKpIvg\n",
              "HU6S7wTaD5wZRsXbTveFKlG0PEMk0oSIMGmM4zWvtGrxJ84ngM/YoydoFlcXFAdTIfqChQJko5aK\n",
              "Tz/JyAaMLNQfFQhpKtSXwUwKq5GE7oA6l/CNo7MpwKACiEpuYE0MG0rBm+bLa4JMXfsq7YIXTkFb\n",
              "Ga1k0t8hQsWX+eBgUapC1uHC9t4K9EEAI3/IYDZLR52upczSlkqBaFM6ecHxR1cAZIX59R5dq988\n",
              "cwgktKuYW9TgHeUr5vrnATswchvRWfeCWn1Ld12Wvm3c8lIkL9RESKeSoekgJ6b7kcff4ZY5Yhqa\n",
              "uUogY7PVxOYDBVbpZs3L7BReAeYw2tsxwIQQSa7vGpDX/b0/ENYwdug0ePeEfvivN5yL1itm7r28\n",
              "31ikeiM/gqdIBdoGcfzV8QMj/saoe74NG7fTnUtuvNSe+1k4QFlDRcV/DGQQRQq2VvhVVPwc4TJe\n",
              "HVTUDy+1KCi9xsNjmtXSSp5aUU+clgsHjObShe7HID4XHZUeeifPOGKyEBc4KPrqINkaJU7cQy5F\n",
              "rFNuPTB0kjSJjRg/gE0P91j/8yOsjbaOlNx/86W080dmVIQEpl513+f8s6cwjBU2cR/hAy5mYnCb\n",
              "y7cc6wr4sso05atsOhm8CN89c95mxJcHtOBT2VUzcYUeLFUrDIxCtyVglQnOyXlKqyMa3uW9YqkZ\n",
              "78Z9Y9JIQktxYR1b+vFb1Ygn/yIRia7SGRdS0e0/lj/2OOEg0OIb+kiF7Qb1QrHIrEOaven2pBrn\n",
              "5kvt5EtUCqNqDmci20zevbqLh6fKfSeYklhOBRcWtUiHlJ9V6qoY+Pf51OI6mLoZr6G6rfVfXJH0\n",
              "OjdnT5GUxwy4DYnyz9AgLuy+eQFiRcZ1Ce/t5p6VcBLvkHh6iHMaxif2EIWrwJHjubEC60V9A0KK\n",
              "i04hIc8jjh+zTkJvGO7KFhZlCLHVqPN0Ant3VMVs4ZaXFlXWCwKq51upwTNn0Q5Wd+tNaj7EJu1i\n",
              "oFCIcssiNxSneMVUdShYQr18hMLIuMLxFxfwERHDExih98SWAd3cXEJCr6ZfIPS+153SgDZOYuia\n",
              "SARBT2PE6zHPYGlB82/1v19tzIPok54xNd3Usy4vHNnvLWdDN1J0byO4/qdcaVOzpLyPvamI6pIT\n",
              "TI0nAglQMKN6ZDwxNgAl2a6ZBhCIeBd1GR+rMNspGCVSY1zo6gfJQGhwUGRR7WUHoeDQOyX/qoZR\n",
              "5tHItmp9iIMONqmIIWiTJuuly+ZsvKj1pemLIAdZY6goPYV4uD4QpAkuWBPvWJBUiwomXm98jy2d\n",
              "KqdCrVdJRDmm4ceviTpzDCp4ObaXwBmSKgyVBjyggySfWFIoSO47ZAJfxSph31IIy3Jlb5RWaBjO\n",
              "Ex5jChQyLjJuaTD5j6hBeldETzTV9+cCAGCXkhFqIBLOAHYLELJ37tuPOZZ+BLENDTIgbd02ZFok\n",
              "qAHTkZaxrn8u3iHV4vTvNA1wvlsIOQ0o141sUpEyevZDOvxVSx4mJrbXr73+zc9PCvOoyQg7UU5T\n",
              "t59ZrSQQz0mNDwL6+rDDlbr031hFeu9pasqB5U+pbsyjG7Jh/UsOivMiwOT+COidrpuWrkYzO9nE\n",
              "IyoJJcuMip3Qmr4i9Pvocm/NnKRzX1aJGJfSgpaMEnzUWeSWnzrrBUr89ynyj/oOgW621aBD2+27\n",
              "eLMB9I5migTWDdk9j4CJC3DOl8VkHeNJRUzfo2t02L/i13yfKHsO6Rqubus2sYaAx2lOTdVsgvTG\n",
              "iX1XVPivLHnkvAnxnIaj3DLni3c9HWTLMbmrpvgV9LMBExtucIoHHiwSQYozeDGFWeKoIKiG3S89\n",
              "VUV5eafu4x4ye4wEyUQWcSZ4H744ubi+n+bj6UH5oMJHy3n1irv8vucNpJ8Q78Ao/+4aHbYo2B37\n",
              "xwsaQl7ewb0D+ZPZBdK/m48M5rbPL5CuHQgL57/iqtm3aJZnmHA4KveViYPVKi/UlJLuviFuax+F\n",
              "JGfMQKtXGneSurMfNguL6R4vIig6sZ2j6AN3Etrdl2fvVsqkWj4aZoNFnIYl2eYSNi5e3/jpLBsS\n",
              "oHFCnUTuORc7JI0AvCIEAIT9l1xJMiUULhwOK8FxzEBM9qZi24G3ud3e6hYxFOOGjMpK5I3KrVog\n",
              "CWksDzdJiQ0UtTq6ckljNU+LpZtOAyp49SfNKB01Nc/RCsPQiuG6Hyx1Xm1RHfpxIoDG+ZmjnsB/\n",
              "WLyrK3fpgMZcMM2IqEqpswfBb5I5cTEmbHET/q7EWdpgRuLkbDkdo7WP7oxQlBQ8Dcw4lM5Oc869\n",
              "ha7Qb6wYzEfIWSQrIdlHesqOvN8wmg3uc89C6SxSaqZLcuouPqyVczmPBp4TDjUnConVeVJ6FEbq\n",
              "ay6TBVkHnEJ1qNXTNRPoWmWzU05GuCn+DUoIa68Sa5dk+jrSugVMtOZvNV0hvZH9C97nJfxs2DNB\n",
              "EnYWzjrybH+YweIxbb0xXO8OvPqtYOG2dCyTAgsKF3OtIBNbt2eajzZmxgrur04wMkBxSfJ8mUmw\n",
              "cp2WhoguwmRWGg2KqcDGVzaIFO66iEwW3eE1TdpuU7w1z7nI9GxqRRTC+uttf0baa4f4hMCwgAeT\n",
              "jNMww7n66qi24IPOzH4QxWxl/7BY+N6ermFLZpa5yY6jP92B+106oqjUEaY9wWpc+PO/QPpR8IQn\n",
              "FM2Prjq/iOAI3Xz/Xvg6gEGp8JR2AfSzKO7mOnO/qq29utOLDdnmLZpqnfCeFppXAAPkiEmkNfTc\n",
              "zzgspwdDCNUJsM5XTFG4sSguWYJG1U8MKcUSyykwYIiPRSebGTAlwKWAjQ++pUkzXaNiTrLVhMda\n",
              "q6y6nJfSZBCi4iv7bqDviytrQHCzgr2pXNqjdRqLafoNMrWJfe7MLEBqISrwHTPp+ZWPW8KtmwNB\n",
              "FCa7IS9BvAKG+O5FmKFJ7tA8PD+sVsoP1LyJh99ZgfyIUBXNXW8aC4760SpMf7Jn7jStS9oRVzu2\n",
              "cltXVwHPD3aIS4yyFR2LJmjuE7PfVr4S5BYbrAbm+r5Bny1erzPCx9rRPOPFeUNNFYIUS+HVPDUe\n",
              "Uwxw6LgD9f+LrRhn5ewAly8Ga1HTrCINrDXxGMhBS021ahzlO8DNWLrcyw10iMmNQzHJmGyYGim9\n",
              "ZqZdZAH4z+nePRxiLFQCptPWamXWQDftasaNdMr1mngx1dm4RrcY9r8Y5VWG6q1YWoISK5xFjYfj\n",
              "XemCqJCfoMgE62S7tlQai/pDHtV3B0BhYPRvWgLkccIE2bPNOy+YI/YQ3B2nHP/AibsLqBpaX9H4\n",
              "Hie3MuIYFlBFk+ZI8uL2Z0L8HnHaK3PrerVvTROrLhZu2TvqNaiHu+cKxYjN0lR8DodfB7zXMSEP\n",
              "i5zfYQzaeSE4/xgG7BpOuZMWqvz6WcaoYwP8iDbZWAPWMLm7O/9++9E9NagSya5rZ+2KwouK6VAy\n",
              "ac3OStoXAFUGaPedwy9Djk0zgtLqf7WNzFTQddT8xCUoOREmvqGCFGBK8573HuZL2R+sp0KG56TE\n",
              "uadFu7oCd1qJjonjzNgbqGmPh16abNrgwwBQzYiYAjGbhQ4wAkTtKtXi/Mrz3dJhvW+yrk6FZgQt\n",
              "+goox/X6JstUP14bw5OIvMMjH51CyJJscpMYPG1PncrW0FjbKFOzBiA+Y/QHy242afMHpDKxYb4N\n",
              "g361cQ1W+RU4rw/hOg2Cp/ad8c4uXL6BMIwspS9kNYzPOJ0YEfKd6xQaHo3sgeutQ+/b0l5VEJ0q\n",
              "WHmY/AEUMt4iV9Dcd1uTj560Q3PmncoRUg8+AIaDhQG5VzJfXIqmjsTkNbZAsUlT2DK6TAUYBred\n",
              "BSKZQKDxbYW2NOClqCGbtKbXp8/06T37Lx6oLUDyyg6Ki9D6YFWqWGUkKT5rZpBn9ykik+tj2Jnt\n",
              "0Cc3C7jTYCPWwvWcMPt8OKshsLhAC5GvwePGy9yaorqf2GMIbjSARxq5J06FcIBX7SVC2eK/eV85\n",
              "rMv1752GOlJUjw+iAV8Dcc95EUeKa0rV6N2rbiNPuo8+KipgmRppieOwPM46C+UH0LgranUkxMcX\n",
              "FAK4jurCKfFxFCfEKgd9+OmAW2za3sg7fcz2ugv8fYGMRcceV/9/h5ZBbstfjsnIkuk5ko0oIqLL\n",
              "EXDz8Py2FEglRM6SsLnu79HGreXNMFROaLQDMCo/hgPI3XaFQXrOLlBhdobzvMefjtCZ+Zs29HM9\n",
              "07oXl+iJ78zl7DSPPrAeE7MZ0slpUscM9iefNfFAK6Q/BCcqXc62ziVwCPlaABHIAAA6oQAABulB\n",
              "miJsQS/+tSqAIo0YZQCiQ5IPPBg4scqLk2jeqscPNtdEfX8iZqCnzKsk1JNGgqYF+zJFPYs6ADLR\n",
              "ppYEk9PTdS1r1//G9lerrFVvNyl+zRRk40Cl1ENrHCBCn4LE9gyMgS9k9TyO94e6wngTTq0uEpwQ\n",
              "Sce03o4suoLQ1f63WLrdMBU7KVmfjAEUR0nuPs5UKIyO8kUDdnz/cjd/EXPZD5BSnggUgscGZgCU\n",
              "XEqcwuJwETvlz8os/CP1AWNkXCZVQPYdW6DxUilrDwj3TXQRSPCLEbZW+7lt/+2bSjoajzAkk2il\n",
              "BUC+wT1JanKpiwuIugvxAoeYdIzaaYPYY+7PEGUDamUxK6ECwK/xFEiuUcAlGVIxxOnAZw/+9ZOx\n",
              "J+0QKbnhQjpoLgFPmMqRLIdLA2S4rYO/n4r9gV3V1N4o2IMVojwbp7X/iyyYhikS4Nj1eg0goqGB\n",
              "B3dd9zDbG5Mm0aMhcRjbxo6+YMiHXapyZfCURVXW82Ut4Qnf8OGXK+WSzZKLrvFpm08+PGbqKJXj\n",
              "rZCKAGePvwzHKeLYAGLRICKGiHiS+Uw5xyJfW4jU31c+tU/xgkx8D3qOkq6cEYYzIaHuqT8efSAV\n",
              "c228dMgVegUGPMAjmer+V2LDXJyPIM4p9DzxL+jBYzYlUZK8wu1gUzrh4D9aLl5glRp6OsO9Egk+\n",
              "xsOlARHv/3/O82IrPCWRnE5Ah22OSe0CXSt0llvR8wQnjKOa6FklRwWjAJdFDyLSXaKU5gsnak5b\n",
              "KmzHY81XczyH9alcauT4HcgCQaPYAII4dNH5FAD9v3fOfywjYnqIO3UUCHGRkxbYxavtcW5j+UlQ\n",
              "SoRRt8s9b87moO8UBbC7bNg3M3PSybz+FSuq5dwsC4JTTlTY2h+7XnwEXZ6ODN4ksSJ1Y6iYuyLP\n",
              "FAEF/fWy1zuyJwgF+bEgnWRcC/1RFSyWZd7YQXNxaSjsd1mgJLk64O8PWH7A8V/fcgHdusuhWEdU\n",
              "mVawzTQXY7ULJLGPUo1OAb2nTrycp81FEmlcH7+lnWKP9qbM2F9YBRhVR+XOzTBGteSUty8mvrOY\n",
              "zEkCMmgK2clSeB8I6KnjbMhmhm0gQO2rqFA350QXKGo9cqRa0isATzH3y2cfAkq+mqYIEF9lPHRO\n",
              "TecRWsXJJIfuhacHO1ek6woiJO4qJSfXklkzUTBajMTDtxiomgP7hhVN8NIAQKk1kkv9vNwwVTC3\n",
              "9WELqU1dpsDPjKMV6k2e8F7YkKpggoQ4BP1+75OZA73rcOGpDgKZh9GkGmcbxqqIxWi/vhBD5cvq\n",
              "NUjuvUp9tYH1jEIfk66of8OYMFNW8wqiZO8vHZbVtNFaQOjhX758OrNbEe/AoSmVLAvf8ExllcDS\n",
              "QDNR3SQ8mTbO+MooZavyQZqm/vpRl/p9hgnwAuu78BD9YJ54hvPsZgrgR0XlZ/semjeT0fEapr/8\n",
              "lB4E6BO17TklINw/F5hfopxmux7/O4t5qLT76tcr/gm0tKI3UOJBY09HIXGlEisJpfJFJZmHypMw\n",
              "ToRoNMw9cAsf9j18p4y4REDKxW0b4a4CQCB9qBFPOhsLE9OlEcmE8E7NQqc76NPGlf821o6hWHB0\n",
              "JySlzE1LW6pBjxPsByVy+xXkYgcdlGM3YblWAhbdOdtwkbh85JQUHYxbdhEpVwSxp96XZ78UsfGV\n",
              "f47AJ5qkSUBoWqF9/GuXBeuiy/F183F6Hs/O6YivCUboxgudxUsK4Q0k9hbXivTMpWfkY/JZziol\n",
              "cDp3aMN4yMCjjut6BMU55ZoCYvXw2HbGWCZHHEjfp67Xxd/Agzwaarh4jbpkfAsqqFHpBRZoVBRa\n",
              "Lp9sSOTF/939+Vl6w/mOZ8RknujA4VWybLGg4f/R/mEr24bpi2HVzj7lidNO2lbXgq+Pk/nSigKJ\n",
              "WybSlrlU488D8f15Vcy91eecuUdRIGaq3xh8ZTOf1rHi4Q0R017Fut4UMLATollD6Lmk4VDRI9as\n",
              "INE5M/T3cXz1sH+nki9bdYIL2c58wd2KJhHeFVxqJEBpsgr8I4pWsyGZoO+rBvhrBhrxVvehlRu0\n",
              "hY6MVeEHxf3fkrrM8UnjuNF/R1R+wkj0DY4Kv9hCSofTkBQlEyJ1t0gsso7fabrAP0j9MdAzlmpe\n",
              "quZaFD10k1fgPvKx4IXOyvlHRmJ6VJRtOYy2lagx7PLDX5T2xCgW/bTdFxdTbbIK91hUIkwFfnvP\n",
              "nPxuPSXqk+wwP+yGI8mqThAEfoYAD4/kbMBb8dpY10cbJ6p0O1B2s3gMupNCTXr5oqni4Gh1Bn8r\n",
              "pt/ay6xwjRRqXLEhP8x4ZqK96xeHhNfL1HCE8L1anqM/EmyiY0GNH+wFOsQFNk2nrZXvKwcpqaCb\n",
              "rQAAAaEBnkF5D/8ATtpBdU8v9z6Z6CZD5/YfqfzIuKtWsDgBJGGsKIi57N1hbFIY51z8pfPv1oeq\n",
              "PkJ6Zr1OV4pygDADmTN3Mh1irm2WjuJb98oadlnZz0wIajkqqVHlm3u4AbFOe8bmYIWoG2GmbS6A\n",
              "p7tEkdJheJJrxcK4XRwTaabdW4aYg2T1JjQ3XW6/erxFHi3gnJg5ehZK2OM3KCqG47wo1s348GSA\n",
              "vP67F+DN8SLoi7dz90B5M7SB/tbYkRU1CYQyGoBU85TK+FXKJmUJqJENCdSIOri1jzEddPJY+EC2\n",
              "wpMTpUFN3a2uxPW3L1pFN6Uj1MgWkPrS7XXBqThEZG2u3KrSv2HT7xjJcAnkqs220koAI2wnTgVI\n",
              "vmNPfDm1pTQGgJpwb+ohwZi2bLLhDIjksW2MDb0hH/qcn62iJWGsEsaMNGmLabsvG64DIdCOSQs6\n",
              "ByC6FDGytL3aCALgKx3wBJHEQdooGZ8wgefhzxXau+z4cvzBSqsmtDoHotVroABVsolDM64v0Our\n",
              "RPGZdzU0W+ZuJANGvBfR1iXGv/ruAtcAAAOAQZpDPCGTKYQS//61KoAAceCHbgIBBTskZ4HTl+6i\n",
              "JzqqSTfxtRv0b3yZ9hXg9Gz6pbhpcbJ+BVcMjxuqG51zjoa6rVOYZ7TEfJwrpNrJv9K5UORYPlvM\n",
              "dXGbqP/VPPOVUVoEKZZNATtrq2wPZz4xfWKBryZqw8M7ltTZKpStUTwqGgQeJJchgbaGlWgvy7zt\n",
              "rjSZ7s8p7zgbay5jPcoIrP475I2k4GTjsquNCYDpJJpsZ9TdLbtum8dupMrUuDpm2h7Srra77lxw\n",
              "ccLVXChO3BH/4V33nr8Ktl8JI6W/Jxu6MxwIP9A0f4F07Et1hmlfZhvAoMwrs0/BaBKMJktGuB+S\n",
              "CNCq09sRcyTvo49AKcl+rDKp9+06eOXX4gelWZ+L45hdfAW1D7apD7O8cFbcaE9UucrP4a6hmQNe\n",
              "c3wvQtw+7rEEL7ZZ20UEb7G01W7IkPzTtwWk0EjAnRoVUuXCqwHNM6ideH2rEWKjp3PJHWogYGC2\n",
              "7mcvt3N0UVJjPYTT3xOcHe5jjb98yG4p8X+iZjGzTkQ9n+Ha1cswJoNVaeqsol6/5hg3C8f7pClU\n",
              "ijdA97HLpU22CQibvi069R/wW/SrqGGit6O/plSxIWNghvq64kUuJlDwoU40jpmRm/OIt0e2Ra5z\n",
              "ew0Z1irtWxRtQpOtpc0BCcYWjGDgEZ/Td+/8fye+bp8RPCRbUwGe/v/zOg/6J4eUeonbOyz0B/Yh\n",
              "E9vu85524XadK2A6PDeyBfYoSB+it5KirnCG6WXbqIECnB+oECnSMMeyZBij0uBXmL8eGPugWs7T\n",
              "oddwjDn17/QqFdHTgt/d7xjFAxi8dlxZEQeNR0s2TzMJOcIQylUXkSNDdnf5q8z4gJ+t2FPc7fAb\n",
              "rtE3B3X1DqCx87V8nRlGK7iTKRBfCD342AkUB8z8YZ3vxITph8t3Wm95Y8dpVrsQzld4YIiiB59k\n",
              "+3fEjtNKpJgscMHV1wvDJHyVnvR1RYgExXuapL1EvscPvXltVS6+/3Q9leXOaf6xxWcuq2KLYcRg\n",
              "mq3T01lQQ/ZQ+uU474aRhe740+rCZKF7nNUsJEyc+wzpeuNvdLB+UuOB1XsD3ywJyznulksre7jk\n",
              "D9JUglpmDJZMeObaRbeKKAqtPdz2LlIFnP5m1wBZCZutYTjJpjqw4cKVAPF5e0RBQCg6Pet7Mfnn\n",
              "kOqC3NaSGFzIU4AAAAQTQZplSeEPJlMFPBL//rUqgABvaTbefiANkPY5Jrfby4B9PLBrYVfub9Uv\n",
              "2+WosvxnymrKQ8oMAd8VwB0KW5ugyO0eQBCYiQ3gweOfDHvoSUA1/Dx40EolvcwBD+B/cVLNSoh0\n",
              "7MJY9+xvCKghJyI6FXC1NHc2s9okMKlhpAys6C5RPLe4WgKshkSCB0Cxc0+fiWXm4Tx6eYmaY4Li\n",
              "F/aIDG0IaT9Jv3QKpaAhSkxnRIej2SH3Oa0HrC3rk7U4sZU+gu8BKmGgVD9ZczBHgvrczbojOhhE\n",
              "znBxUXkDPTz+JYZiLdiKcw5XtSicviR5S+iRSFAoJdwfctytfMnWde/+GLXQWj/QNZ0d18WgeaEz\n",
              "zuZO+BaboNVuYY+YmwqPkJK8lam1wPZJ4B2ckR8hPc16E9Sdtpn+8r41TNkecn4b0JkvVIbT8Cyf\n",
              "SlV9ejCb3X0rCaQVeSCOJxoWXWn9jzrUrf1V+73uLbKSa+7tt0ozkWcCalmMgiMcOS+AnVsuPeL3\n",
              "zo5RXh6KdxsdFTzI/aNQArSN2/p2hYQdQNRhVhUqWEE+H75tLp+pGUUiawH/bNeG/P1OnTLcNzPa\n",
              "ZR0DKm8/ewSq06eipVRmJjdS/jIFbedO0VDGNmzizgOvvH+mCQX2fiSraYf1hVchibnpcV2IYQyW\n",
              "ZidJiAGB438Z15UOrmTPNuTY6gv6j9D1R/1+F0IOc3yoQV/7cDrZKSFcDwxT19DWUL09aAVVrY4p\n",
              "x6fTPIU2lTk8aO2LlL63ELvGPwVwi7rUh/6X7cyR8Z+0K4Ub1xvexpQwsNSek4lLRcVJo1IxBhvp\n",
              "V0P316MrEwTFpZeDASqkrGKIhP53pPNNigKglDTtnquL+H9xCaQeAcGc6EkjSxpoqGqGnfY7PZPJ\n",
              "TUIIadIDG+bJ2//GsalBiuiwOcwtOHt6S5i+H7mAEPbSRFewo5Maja0EQzUQS6Dxwzb5SuOS+UAL\n",
              "aJlEe8i/tKqD8/ZFqsS7z7DVXmLgG71UlaO1Ebg88He/OFCi1GRe/YyXgocQr7Bz781+JPyMbmvC\n",
              "GULW1YyqgR85lrRprlkxEdymVcWB6G3wMS52Cmw4XfTne+ZcIabTuJ1PdmuPdVYTTaMU32yEJllp\n",
              "1cIY4wX6sIk5FrRKfi9tAXUIrr99wfi6A46hnsxvTro4vfr27rFs5lpJjco5jaJy/03PAFEbWaEZ\n",
              "TB3jj1skaJIDGLPLyPqyRnUZmox0OqiSta+rH9dOXwVRBgItktAHD15acDz4T9Ih/gFc2BfKWBQF\n",
              "oAdxNSBjTmvtEUT5mVSmI8YGLW6DfUFyF+vFzs9CQ6AOKHrX370+wKqTXru4c7iDiAUA4d4y4eYT\n",
              "ip9Yv8r5I/524tQU+gq/tlDfzLbsWH5dkEtvnrePTScAAAB+AZ6EakP/AAEyXnoh2381BQkdSZEb\n",
              "Ovym06p6yMiFKWQ0Byw2Lr/qiorjgJ/YHRKmE6HyXbd7A0ARiwtLdz1MRAIg5z1yqRVVH1/vvfhw\n",
              "01cMsBneKKRk3LcOMwtYlJab8bKTKduIoel603GNYWS1D6Esv799HV2XjhCQ7f5hAAACa0Gahknh\n",
              "DyZTAgl//rUqgABvI5O4VcIAIwHENclME9r4h8RoMtqPvdp7Q8hmvJUB/QVkZy7RZ0hCXGjiL5fx\n",
              "dBM5iOlDZ1XcusDN2A2WeYAR1+Klx0E0/FR4N7pNtRn2ARQt3hjv4f6VnRe9Dj37t3PfWwkHa2ud\n",
              "Q/z4lBWJZDTXQLn2dem7nsvdwEPvmqIghs3fqlmTA3HTF6Llp4tNuftsROaelfQuyi3un8HWzEqe\n",
              "Qf8oO6fdjnX5ec3dNDsTGaChWbhWHWQqCpwIKd32GXRKyGlTNcdzSrtVsjnsghPVjJm7B+F6RdpX\n",
              "WqKdQNKarHGQg6ybq16KyXHN4cyJ52vCDkLsf2QiXKCKAnYlJux20hydzulBXyBtiQigO9uOZEIj\n",
              "nl0QRDsHhvLBKiMX20r7Gp2ks4yVTAKiiqEPh+bGloooPsmz3dcHA3BKRYm6RVQzKUjsOXyJu84f\n",
              "bRWZhUmEJL5dy+l+Ai3lcPcDB3Yio0r72Rwe6l2pnizRJ3UH9atiSCDxhILicFbmfsa8IcVgDjrA\n",
              "AoAKwJt6QuXRPzXoaIQadSks2E5I0h+DD/4v/5BCr/gH+T7NY38S198XsSsOkZer/7iddqyo1bK+\n",
              "YxuIoY9g4FHMDktfCwu4ORdUghCi6FZBk1rVok2JoqWBBWv1jNByPxcZjun7Zhz3YEyPl1zXjgV5\n",
              "nmZL+WA+4mK8pPdTm1pLITEUbJ7sALdDejmUl5PfXZFXQlwBmCm5P+CvruzLJnTEZ3IjKodvjfHY\n",
              "uM8KVFmEEc1OCiiNKz3qPzKQnWKfiVnNrRMcNn7wypvhQ2quBb0cPqc8KF0AAAMQQZqnSeEPJlMC\n",
              "Cf/+tSqAAG8m7ato+DQAj7U6w/T8MqZ1y9j9yeS+NjCGpac+BoRnj5xawTtZHFksjpQLZTRj8dM5\n",
              "tfsVS+u7a7eD3HeprzFzGTr+EAIpFWx7PqClx4PG5GdAqJs7mDo0Xk43WdYDO7oydP+t3ldpEWxp\n",
              "SM4Achth0BjgYYAJN9hLrSWx+SUGZqnmTlZIS26Q1/vj4v8RnaWp+IkDM/mcRuqlC7576PXDrsuX\n",
              "yPN1t9rIOBfOQr1K3oSkT+yl+hcxzD522YViiennvnTb/lseCcANFfjeoTfZU7czSxw6/+qWejsL\n",
              "sptM9Dy1IUXtkMJVutS8dmDDjCPWzB6WWP2sKnhsYYRDqYdSmP+2mPoa6JX+YbP9ZdQhooiaHLC4\n",
              "AG+QLvkMCCFs9DKgKn7yZyc5HrFyFNOapADVif7+jz2vhz1sL1Vj607o9t34NorS56At3FdAnLMk\n",
              "oJR4gGO2A/eUjZByt4TEsUODhgbpLqQcZlo6u/rdxVicf2+IjWKDNOkcZMkqIQjPEW0iMvkoQwSV\n",
              "tnL2et1aH5GDCnZU6U6MHb6bVlpUr4+PupDwi35N/2agnnL1N6Hn9PYujy1/fAA7JxhhBkEkVwBK\n",
              "UDgGYHWyi+H59UXxmDT69k5QhsdMmDbLgDExK4yS9oAbf25AToyd/tZYke+/aIZMnCWlApVlNXDI\n",
              "fIGgfutY4wAXrcyp2UvhGGjFgRqLfp5obMqjyyz7qHRv8RCuC3Xpc08KtLn97ydaC7bPMab28JmF\n",
              "iWqqGNcEVgkDGwcyT09/f7XmDL7mH5kAjtyY+t7yo1s0ldcP7Gt4Oy5fpAzZUhkEYAnJBvnJpeXF\n",
              "ARpmFLrodEoR5yPaW7FPea4bvZwHSoVHQZZZGhUQjQAk35IM2GxMe7PsF1gqW/A940SDxE5MCYpt\n",
              "olec/PvkTmGfknWEJb1/rnd2+Lq5grnjWVWzKxF7gIsG5zAZIQd8z7MoFP20ze1VmXvBsmjnSo0R\n",
              "X2Qu9xov77uYE6OrCInczLx3eAWVKp7Ch0OKadP0PpswgQAAAzZBmslJ4Q8mUwURPBP//rUqgADe\n",
              "+UEHiil3jJ7/mzrhWFy8pagtwLzGGB1INUM+meb3glHSCe2dUARV3ee0jrkeAcrz0xK/5eNnwkIM\n",
              "Yd+Wn7/f5Xw7ga0hl4EWq0mG/Ee+A20C4cSm56wy2EhAfYSQQ3515KPf1fi/kTY4lJXaLsweqO7G\n",
              "0i481VQtq/sBQgY4LqvKGCITXHVkgxSlYU1hK6gQQwHCoXc9HLqEjtqyy7zZUcWy1nf486mjSAQp\n",
              "VwGWJN5YrBtDZcWrNeYFIFPMrvmTQTz5CtiFyV7Ltt3cOrUVmiM9c5O6LPZJ6fec5tnJUSW0WoZc\n",
              "giRpd/x9M/dw1l8iWKdkPYyxrInmwvMnbGy/Pheq6tD1Us+QXwwpXq0JldMsbpl4A+ERUKrmBhfZ\n",
              "IPnEsxi5SHOzM/HppkCjNGjbsK1RrM5mavxQlrn/hK+UhEXzosSl6mXLbS1hE1xiuYEmvbWG7CKh\n",
              "M/jNtrn3E7d6hglYInCjTbG4aBTiHWCfhVeUfAj4DVrfDZ/KEspfGwaXgokKeXCINd0uNmh+/WxF\n",
              "qUldgHPwABZgq5XKqNiZ/V08lC0e4Dv4+xsXSfLUXEDemtq/2hPMFrEve9axvRdiQ+Molrpcx8/g\n",
              "l7WGFu/qBRraUhPuR5/Q6dpr/3rNtORBYYZbUVCbHLuVnOMkv7tEHoRwYqNOmEKajJcckPxppF74\n",
              "EU2+dHMVRilRy4i+A01SsVoyqc3CSlqWg6vFnG2yxsepOsImKO8RlNjb7w084Bbz7wSk8Bxa7vAI\n",
              "zf1dme1SDwuTDvvi87uXk1QEAgFKXl4uwI38hnkT0iKjepvJ/gEHmQHbytdyVMkcBmnVJsAKo9o+\n",
              "1xZTVPbVWzbou8CAbaadRri3XTnRzedtRUrheF+U5Yju3s47j/CICrTY93HagLA2q89wOMHd4xyp\n",
              "MpTxYNMDwwIggjxLf+CXc6c/BUeSmQZNUXZ01Yx3VBYDbp//ZCYB4NNRBs9WU5/fPHNzPyYKrLmB\n",
              "HqoG0dD0Qd1g0RHbj4DCXs1NBzOxUu0cfffZiY/B9OZUGYW/adKpnudV1XC9qlVcIKvMAABrCdD4\n",
              "HExLuXAAAABhAZ7oakP/AAJrBsvbb8NWNwmW8YI02SlUCITGSDkMP/QJEKxr6sPhuaWMcD1KWesw\n",
              "AC2FWMwg/EI/G6ktnscmK2Y/aENIBRe+mDLOzxfEHCLYHc8QLZbph/z2l+mmIHVh5AAAArVBmutJ\n",
              "4Q8mUwU8FP/+1oywADk13pX3ABU96ZOmfjCDBV0p+MT4CMzD+DVMb6Jl4QGBLRhN495lZJ/WLvog\n",
              "5prFHxeojXZe1XlO5YBxHnvnx9HVoHuQBLDlvZhiK+dK2f8uIOgNiA3ECpTEugjgCtZoe9TMNHya\n",
              "ohXWDNdDZO4ArzShfWl7CZ3z3U668RoEULXdk56bEZatFVD0k6JDe71n0EKfC4H8DvKw3FXw2DT7\n",
              "SnfrDwLKnrexCHDNNrCynDQ1MNpyJofQReeieWbtrPY2Mg0+mWsbRQ5ChTIu2ab2OTqISzWz5tOT\n",
              "T1sy7HGzdzwvW4NqzBsQje9JUM0jjG7zOfZWVUFCVhcQCb/Aomt0kPWSqXW0nkmXqVkr5w15V5FA\n",
              "EyNjQLXndB5excN1IhbJM+LXf8Gbu97Zjndwd3oq3JoHrfKib+L1B3sdLwrCDJugOMa1bZkgedfF\n",
              "Hw4inC7Xxplm9cC+QnmAQ/Pv1J220JDHszdnMiFHuoe843IDlJzFE/xraXQf+Q99Bny3ilDAKOuj\n",
              "L90NS3KQ9si0noEBUWYXsgfTHTOUzlgxYV1BBQpQfXiQG07gMxdQTKm0tEcM/uIqrQLN9iKV/18z\n",
              "9UPtbDOLys4M54A/NlpQiiGWczZVsexMIISB7vPy404+GGGPNLEnE/3sK0nNrhX8hoOHVg66Fz+w\n",
              "zeyHWCliN1yQiylXLjw9KeYkVfdlqcY9dXfJXY1sXdGV/juqqJNR0xRM5n0p2Z3KHPf3i8m9lC+C\n",
              "/fjn5BoaKFfR2xUbgDEESHFWR5dnV3oJo3rBffW0DdvTwHSRghHmTyFTRSSsAyoyfrv58mZEy6fG\n",
              "i94mCDBJw7NhZkh0Y8f7bnB7JLsf6fio3R1MfOmGTEtvRt0rnDi7/g+DwVrm+m7Q5rU7tw1k/yRH\n",
              "oMwGziMAAABvAZ8KakP/AAJq7jC2JnJ/l40GVA8gdenLF/45vNT+NuR6BoHFLlc1ngY27N3a7TLZ\n",
              "nbvb1igAtlxxIVJrJhYIP1r24SUmsRc3wFPbPmJ8U/sAAAMAB5Q7B0DWxWM0nN+yOl0s54lGwNvv\n",
              "/0fL9CCAAAADqkGbD0nhDyZTAgp//taMsAA46Hbin7ZmoAFXuP3Ag3fernRil4mzCvWIB/l4nT1s\n",
              "49m9K2NgzvcZrBPGpfJhEQkh/VhkUzQLHEkyVCRMua6CBiX4Ags+XSHb7jJKBbAs7rlcmvYJhL0D\n",
              "7sSv5ap3/ZpTQpq0ZU03zvc9hvXxcdD77F9Bw46Ih//5rN+VK/QQmoT3d6I8w/w2OeUF/g7tLYPV\n",
              "hJrIXNENvFXFm+e/5YyRy+jKeWwLs27SPDFUk5RrKu7YxKo7TOlxq7FJMRrAC0onMZ3eZ4rQx0te\n",
              "o0TYrRSc/oH+Ajzer1Kg3sLDVECrKrRk0+vlyhiT4xrjW/y0SJpkzdTFf/f8U4dP8dxmpnRky9L3\n",
              "mZmq/cEr6zNd8YhzQgQi5lI1VWlIea9pUMymxLLKR7QHbEKCAZjeK3MTYnl7XcMngsZp5NBrLh4N\n",
              "UQB2qVqV4EYyKrl6rZQHI8O+rf8MgX+/9bSghMcLSp6r4smU9wdFTZ1D01tPlnloH4VsSajldVPM\n",
              "IF6BftJq51Q97I7DBv9xS69vo5r7uATn1mplpbMpoSSJrA65fMZ4DuXKLw4m7LvDNJqWNMIk+kn1\n",
              "r+KynM2BvHX0MEXnW178sL9lFuoQunogY/dsuv08HHbn1n49Bwli71KmjzpMf2SOoQ/Ka0ZmAxUu\n",
              "Bgoz7bSB+0jm3jCjxwSaqjwoDKpprbdd9rZPzWef3nH+Y0YjLS4sB2a//P+cYIb/8Jz9IYqdtqpH\n",
              "ssW96pKMP2USLiLtELtWBMvi/9bjABW8Lj5EtfpVfsgRwldaU/dY6GjY1vskc/SB++pzmiXMzyXm\n",
              "UnohTfzMTVkLjuZfZrJ7dYSj26rDVRZUJVn95n2TKeYQONWjhcQtbjivWSYkibgrNgfBopm24SET\n",
              "lfGZbC15qeY4luVX5L5iGYziAPT7HzfPFg+KXWHEI3UTyq4rItMGPA55At+2b09PbmdeH6qVieG0\n",
              "OBGsmgrjd94/JFceNm0k8TEUKoamAVt6BpViWkm41LPMs4XN7Qwxrp+YeC9345dZ8YAT+jo6t+GZ\n",
              "sreVnFsd2jhxbvaJZm/MhVHSihl+uOZgAfCfli3kaUUFeJHqC3ot0jZiVl4LPNetwEwIqW7ZNt1S\n",
              "t6iTwfK//gT6E1WE2y1UdTcKR1BT2A+DMOZZ1yD5kTa33Ugt2m3WzV8t1039DQmXwY8KAbT7osFT\n",
              "d/0J6xwJ15VyL5PmJe5vqrHJQ1y5WSfmq2psYltyybvTFDB+AAAAeUGfLUURPBD/AAEVKko8GwXf\n",
              "e6nlV6up6sphBb4rm39D6dzyuIvIX+I9ZoXBClsppQZV7ntcxIlaABtv6MWXfmGC33pf5DdPujgI\n",
              "PvZSIaQ/Mds3A8k6FxMu5SWHPm9anSIV7cr58Gq9Gg3L3SFv2hF2IxAB3EQn6YEAAABaAZ9MdEP/\n",
              "AAJpgdYsNWsoszbES802beuBxt8IQWwEmcwLHmyU+wqnItvr5obgZeAmFjal6NAAC6rogAAAAwGr\n",
              "1XW/Ph2PxoveKV5CxZOiikZTQDVmOAFQc7ohAAAASwGfTmpD/wACapSv8h6VG5qaU/UdptGAkJpH\n",
              "iI74Tj89hnxmaLvkSq4v4D/0KMCbgALquiEugAAGSJTTrfCWZgCteVAnkslOk8v8cQAAA8NBm1NJ\n",
              "qEFomUwIKf/+1oywAHI10NcLAFANPn88/ifaNADTPXKi14wyDS4qd6XXzMBHyXx12jzCNvixIcwG\n",
              "03Osnz1sz7hLf5xuJX92L9T44gc6/svSOj2I57p0Hj7LpFMCFqxVKawhc6GF/6F0G7KPqb8SYJr7\n",
              "N+xjD6ulaoYOo8oRd5juEKvYSu2wlAHU82J8FgoeE1CQI/dNzSzS3wGtVLwDnXgLCBGnMCHYiTFi\n",
              "vWfbHiev5i+olAfHKfuAPo+ty0bYSdfyiSdvwZ8W0bozdhN8lMKJpz+mQhOMnLG55vwP/AhRhBld\n",
              "PvD/W142qnKAv4kr4bi0Ev4mXrh7kaNC48OCZiLxxeV5j9ptFsg9HLOsA2qsgy36rv4FOmEuDTrx\n",
              "yooYopp5WXOTa8I4Tw9UWgHaJUpg4ct28kYVZP2OLmCW7Lqa/hugFMwKWYothA17pXRGMhGz0H40\n",
              "YQAgBF27s+6NndcHbn6QVsvL0YLxNgLX2740ZkNmyT2U22BS63LxW9CNe2sVwTRYaHiwjIS+qx8K\n",
              "bFkVQpTBF3xwnBQBRgVUu4x3CCNLe8eYhmPRiphbDiVGUZ0RRq0gOM8oCQrtS5YW7nawk/b/mY2n\n",
              "k8GdEmjEUGhdTX6qm7OFQv885Ssxw7rFhm+eGGFr7yinKM00KPvCG/krLHG/nADlZTNTUQazKWK2\n",
              "qfOb0Ku+agHCOx/svBz2oOz/+gtzCcXtE9eYS7Fsd0nanlE2fpyDLMta5rKr5mWzku6w6E6HM7+T\n",
              "NOrD/Cez2R6akl4+hs2i3PIZN5N+TYeOWY1Is3xRDycUUZv9TFD+SwatFjaIZbrFKAfl8sb0Bd7f\n",
              "Yp9BMaNn0ZNOqaUr2DSkyQP2OHm/mLROGExipSniF1RzRuX+AlgZdUXCWTRHIKNfNqm1SGVekypZ\n",
              "atOcaovyN+idMDLzDWUveri14u5UpwZkTAr4R5lfQo8UCCEMFeFo+kDVUWRu3VsqlyhcDBQBXYdQ\n",
              "dqA2y4XSbqfZw8XOjukU6pu8jLXjr8yVGVsVJ3ZhuN7U+V3VJlFzV47agWBzoadm0SmtxdKUaWVb\n",
              "0ORmKIyhzi3AgX1Z+lbNdVeVbIHHMrUTo6ZLMyTj+GFL00sc37z4809XDgttiZjYZ02FizkaKcaF\n",
              "IPYyeP56NRCQProbckvxHjlivFnUjXjkH3/9ajFw/ntsZBfHOMZyeSuoEpcTXAio01Wx8cNH7gDg\n",
              "PvP+gRWmww2vkyagpIQzSRqijV6Ag74QeNrxXY+3s3XnHMnbI/tXFjzMl66ANUAAAACOQZ9xRREs\n",
              "EP8AAiqfLlZxCTuS6ach1bKfC1S1EGIvPnolmiGdPrw93IhYTz1NGngbZ5khud/k1DXAXYAJZJHx\n",
              "HAurSygW6TkVfc1xLDm4LTKN4A2jFT6gzknDEH0SeIAsdY2GncKQZVWkdZwZNOL9VzFk6ln6h0Rv\n",
              "3fpG8ldn3Rs6mQTkKXrw0GLmT8u7MAAAAEIBn5B0Q/8ABNYzOJKuCf+dA/Q8tuYxESfDahkPKDpp\n",
              "HWzQs2oN0MRsYUPNwk0LVfG4sw3elw5EAHm6m1YP467n4EEAAABPAZ+SakP/AATV3of4moEAnAzi\n",
              "CQmZcXoHEWMAJ+tMixSlqXTM8N+LbAZccGD9VWRPQWCHGOTu5Fds8Ixlwcu9qVy7/1gAog1/bkCx\n",
              "Pj7bMAAAA2lBm5dJqEFsmUwIKf/+1oywAHJtaDuMkaAEcN/pK1XTFjEYOFNmSmknm4w4L2m4Kleu\n",
              "qJ7jK7EOQ+azeHSEtKMxZUKe8BPc04cqXsb4l69I+vxevB2VRDsgNqtaoMAQSBoW/HYPkpJ4u61d\n",
              "S3dyYBD5s0DfUxnWsvoaG4UzsrEaFZPSw0JshoTDUpYfsQkpwl8soLq9rAUSngBB1128hqkYajGh\n",
              "n+UGuK8sQ+zYJGIJYT+XXeVsoo6tAwHtP5/7KjUZIhcEbDRSPGL1B3Y+z3J2cfguZWURnT/fHtkA\n",
              "KJ/JNcWgvQvOvtgLdN56lGFk5oovhkYU0EW+c4rCTkCFdjzvHUKBAqARk+qi1hFhwig0CcC7SHHP\n",
              "eVSy2HI5T1Viga3ajHDJ1hupe4n7MohAx2DW9mbbB6LEO/yIL1z8/MkuthSgRhGsPEjq2BlGw/GE\n",
              "1XBOitiLUzkRtSLfx5sxyq13ZT3ZmhDCu4AJEcygpN09c2m0XXCLanCj3RLn2wZLPfOrS6K/I2JG\n",
              "HSBvgiOyRMekGd4BfUE0pPu2oHybVeIw/YUcjpXFtNuRqbhMmszxM7Vw7w6NgRA+LggW1HjntP00\n",
              "dH1MdXqIhlxyNeSoHYhtMaXpzfcCp7iI+/diPsygoRcuXnEFvx8iiYmkSVN0fHfz/gOwjxNRT2mB\n",
              "omCfcwtnqUA7z1zOp8O6FyCFcoyWz94FzZFJTJKtGy+wc9UrfPnHgFqHdAjQ+XAAHW/QF/uUiks6\n",
              "CsrduFaQP3eJudfmGP65jF1ueHYKEI79zsosicoFYMxKi9+8uYTui6ISb6dYuRog37YRq+9s1UjU\n",
              "y7CTKbA4AFsGxfR+DJ7GI77bP7e+6qokkw8v6qxjgw084sRJVJC9CTvdXpzOCqHwXvZKDz+b7Dbn\n",
              "iRmIfnncmuF2AL7jKx8NFbUhA4LkAfl5T4qAKOYv8Kib3YfhtFNJvB+0OJz1EDM3Gr9OONymfXij\n",
              "Q1G8Nlfvo+ym5Ka0K4llAval2lsciQK6zP+dm9F6f9sOOHyL/QEHAnxrXSpFHAWYfUH7eaoYhJt8\n",
              "ReqvV8h68rfwhel4tFYsEum+QKZ30v/Ef4vyQrBRD25JpIb/fVIQiVMQjHPHSag7GPbFJlgcMCbo\n",
              "7qdj8uYb/720wYNtbhQFetTVfRzTHPGP9qAAAAB9QZ+1RRUsEP8AAiiiIHhM05DO5Kf2AzZ71Edf\n",
              "XFSoaE99ujtfvuCb0HjCb3e8uEw9cODRvGwzSYUMffcH9Y6XFKrj34fQA3AInrSgHiV4kVGLf0dG\n",
              "vuAttwxY9SEX1uvyl16SV4z/1HCEvbY3Fcd/iGqWf/7OukNNnsSv3dMAAABQAZ/UdEP/AATUGN0D\n",
              "heDliL9+5Rj0jyS0rgAiZEvQ6V6HZNydq+6SiP7UhG/63dGyYlW4858NTodVXWCqMl2s7h87kavx\n",
              "KRn5f60eEFb1W6gAAAA6AZ/WakP/AATV308qAZBcwuS3/Q9abj0N0wAZGOEhQwQEJU8yWMdXf6Ja\n",
              "6cIRdBLj3T09CE025rmnRQAAA0NBm9tJqEFsmUwIKf/+1oywAOQsxiTCwGITvJED+V5jY5kYcmsO\n",
              "YpgFkp+Za4Nm6UFGib6eu25bQNV0GFCmYCeVHz2I4QN+Ne+SZfJDVVquGcz0jnHmZcggP3WluFWn\n",
              "eFGad9xxCmdA+KdRYjnq5uDLQLwAsgiuv/zNpwK7bMAILGCc1nS1ms1W2B/vhnD4mdHfZYx2/xXf\n",
              "PS00v3WVfxVjsVwmIB4sGaNAmnnMwloG2OtKe9q4SlayHWVnuzrT25V/Esv2NAOoSXdR9rggnftz\n",
              "N4ewrh6r6wWSKqbXqN/hmSIr9tJoUpCBKgqeQsBxzV4vDMbSJ8AoH8Ln5eZKkG8KOBkYzkb/+sUY\n",
              "CtVknUjedbSgEE1R/iBVSBtoYJaiHWuMmB330EzxTL/W9uhH4qVzPOHiGQvH0fl3B8oEwAhDQVb/\n",
              "2Gmd85nJRRcufCi8V7uE2xYYz5R2vFlPF9kFPvPwniG+KdxxMRuAYu8M2CQAvZkjvmu8BV4BlFwr\n",
              "D4JblVX+sdVgPKgzGib+M5Jucvsy6ggqphxgigKizuvyodc90f9JLMQUE4347EbiJpW9mrPuPmnb\n",
              "jWPpN9PMZgrxS4Xlz5lJdPDLoT8p4I4gnOYix8K785GiJBkt7PBTAD6Ifbh8+nDM+ZEUd9l05v4n\n",
              "t0y2EzrxHQb5zIFkymK4qfGf1z8vRbS76e+ziJqWXKNv2NHy+7c4yW2IfiCsiuD16h2hrbrCf725\n",
              "HDwP0dXM21puxlabfEbgAotuP8LcrUNomhbo7KuXzPu/4t7JxlZwkQWWb3ggf8eu9bMZTjqyNgIm\n",
              "4JZ8fivy30B/0iqhekHaf8/YH4lutKCDH4J+KTkbrgMF1dQRtjifj/lWnEYe8kkIb7O0brVPJdZj\n",
              "P2/B0D1JAGMJCfxzNX0zK4aaxsK6OAjJyC6ETiJrF0vpDCDLCfJtzLBWUL3pL5MmwPwDhdfV4Mjc\n",
              "HMG7kw3fdXcqwMmAYQiQ5L5uERP97dsxAzBvvJTjS/Mh1d7fmf78j7cIJGDTuGuA6cwGm3H/9JGV\n",
              "zkTRTs7AsFkzBY953Xs9tT1VKOJGCbjPgiiDZgi/aRJvv/eX30kWN1rzLVzdl6UvoYjDu5XEv3uB\n",
              "AAAAokGf+UUVLBD/AARVbaMRrLWAFmIdwrUH+TPpVlfUov67Zx8CQlCvXrQYHqv/AWhuiDjxGuwn\n",
              "xLdwwYsEHrSrr60OxObbnpfJPlx2UCkfHQyesi7gDMiw3WN9BzSxxfDb2yL5kdzgHSyCXanrHlzz\n",
              "vPoIBB4ykqPNKQkAl0rste+C95G3AF9DNUEyP6UlPrkgLu7Wsea8dk5J9hqRHYqQC5GncAAAAFkB\n",
              "nhh0Q/8ACaxmbYuk/CrMqkYEtvAL4mGruICKFS5P+IV3JtzwZTAKYzXdJph20qqcHWfPtongY3Aq\n",
              "vJ4Eg4/WOvn+lDXQrjIcv2gdwqfOy8fnIi5bUphnwQAAAEsBnhpqQ/8ACays/I8vmpaRZg2+c8gm\n",
              "rL+nduSqkYjj24GGYoshYWVUQnvMVxkWxxLgaxHAoK0SVEZBNeSWh2zRdnfyRN6ZGElbYuwAAAMP\n",
              "QZofSahBbJlMCCn//taMsADksqsSYWAHQhuFM7P5zAntZwnKqdgkh32bButAHEid7XGtKNxAU8ja\n",
              "QsX1VITytmtz1XbvBocWTTAi7ZTRHwpbi6QMQKiU7z8LHlvenXWLm8m/MzhAAsgxLP2hesUKG9Vg\n",
              "TZktiJTEoFXJmkUDtixBSmlBWs+oOLHzNjBt4aaNvZylM823q+PFdK2GQGoO2DQNukJo2roQpAO5\n",
              "5gaEcyv+mTQqvSBXGUrwEEe4s8soPK3kFqXl2srL2GQH0l1STwlk0qnFBVgVdMFzOUgmNED5pd7a\n",
              "s2RsP6DHsjeFevGQ/gTWuQZeNq9xTgWV3wtJtT2gt7jcxCjXAhK5NCqRxJYumLtvATUphEy3um+L\n",
              "4YxrtHiVIVonIer7kOwhlfnQnPV4iBTQUeAgokioQzuJa7gB2LkTpYaFf5p/h5sW2PO03Uv8V7jw\n",
              "Atf+tY1lf78YmcArayGmmcejf9LCurp93GAkj2FyC+5+Jfhfb3Bql82x3WcNjKhkaEd0+J6BOpsG\n",
              "ovTy/Z0o1L1ubB90X3Vrh7UHcPzfkNFA2IbkPEMbqu2CHZyNF+yrEKGn2WyCDr+sTEI+AtzUf1ix\n",
              "48NHsVyu67C+NISQwC32GL6/sV1JlRICzrg6SW53IJxk9ZFgtoMZMMvoRZbt5qfVSNaVpYcHKzas\n",
              "M9FyiTmNN/0q12cxeDdgu5nyJsB84mVUnGmI8c6BmuxQB1WJYN/26UOMLDXl5wQtT4swHjYtu3nC\n",
              "NonjnnlBAidPINebVPN2UwpnZO0U5W5hYxxk85O/t2LFlqdpe9WS733BTtFq+gmEEpfQJQ4rfxAt\n",
              "Xf6XgK4w23upPVPbxN8NnM2Vrobu7sBJJfzvv+nrECdq6xXsVUChOiMdna5fmeyI4KbdH8aTHvo0\n",
              "FV1mhemdxsqgAMSh5bjvOEq6lhEHR+c18DkYF0tDY+HDYsrTePKAKOkxih45hRn1NBPB4M8FRYdO\n",
              "rL88M+2f3iD5vwyOBpftVZM1HdXIKo8HSTwAVWDxgtLjDINdPdBkU9/BAAAAfEGePUUVLBD/AARV\n",
              "gF/7mmu3nmAB8VXW9AZbUIx/LLkO0B+37PhFcRVjOSORWDlQun8aWlPjnRSQW9fEV/uyZryP0B5F\n",
              "o5zc6mRY2uJFa42yi1BEx/vDEyZxquMjdvmn+Sdha/lMpG6NZ7AVn8YWPIsQOdkpm4VDFwqXy8kA\n",
              "AABWAZ5cdEP/AAmstbu9h8DZ1WZkxkUPgEVx3PTO/FmNV+UlrJqGdZYKBB78ECQoFR33PqD+i8zh\n",
              "MgGmKLKUCYfvaHRfQhIUNCCxenmIquzDrKLwrSqfVHAAAABUAZ5eakP/AAmqUveksYt7IsvvNvPE\n",
              "GD8MsYvEDiUyD3UNt1njuQwMC2/UAbFwpW2lzkAJTLGSlVn3qISn9sLsiMtjzuU4h8BE8Ax/l1tB\n",
              "U2ZtJd0ZAAACoEGaQ0moQWyZTAgp//7WjLAA5NrEeSXiAEW8rWxHWdlL0FdMBd84QCkUzmW4XvkY\n",
              "kRCxeWKCbdCsuUH34WVevV9P5sTWDwwseCP4yRwCgzccOUh58ZWsO6OZA+Qrnl+2tyiP3DXcE8+r\n",
              "GMPIIBWEG0z5qHtRyYZw8PBSYrOTOZeeZhzMiGLAt7ZRITEeNZpIp/VMavsv2XrbDmHAaQfXrOqx\n",
              "C/d8ebfg34jNrr+1mARwwtGvxTIgiwcX8GiJMCHTK/uZQ5T2YPc6uv2M1tWHeGV705Nkyx54narR\n",
              "8oFqzUwvQyB9st9L6oqUTz2egzAbsIHgqY+UYRYspHGxG69NWOF8DOrvRggfz1fKqu3LmxXcmPv4\n",
              "PRmTWG9yBnDyVOVY0QCw5WhH8FK2se0P2IOkawWxNigr/wDpckO3O88RBzJDue8M3REh8bYKy2U+\n",
              "Zfg2lHx0KP6cZ/+xR5x09BaJd5uVBFLCgGmNYp8cFhUjFTvU0sPQBXtz5vgmpTWWAA6S388HcRQ1\n",
              "24KZIeIhZQleacNR/FDmUaPQIx/6UtSAWqDg6j39xN3c0Kq4bstKmCBeARk3NX52et6wsIi/i/5r\n",
              "OwDyjGTPfUbFvCUAxBIdWHbU6aKfvp7gU4K3KX2ew/nIQ0t2X8GFjSX4tA6ek+/DtHTLEuj2w9rJ\n",
              "wWZG9xHMJA0tH891UDKorDUMNIOvmz105+JxFxHukTaisnWtpb2bh8pYo6/NxBtDQ4pkTL8usdKs\n",
              "TweIhLQX0qH4ne7XFaWLavKiydIBmgh/8i4yR7SAHQLKHh/WR+2gXjMiByhJAiATbgO1AqVLtaA0\n",
              "3P8VO0SIxUVnrIHF8xP1mKWWjJGml1Hr6H8wBta5rRSz54OyR4tLVAYT/vtBZWyZF4bOLDYBuwAA\n",
              "AHlBnmFFFSwQ/wAEVYBQfmEukR6LhPPk+KZ//iDf2EAS9Ue13/vtQhL3ihznZFdE6LPfyWPXSzfL\n",
              "cdAGQAW754GXaS07ejgBSf22z5IYfR+ZAxgTmX+fFMzUXoukBj3MPYxK/E1HjWyi1BroQg1dRl60\n",
              "R4oq3qhHBwAuAAAARAGegHRD/wAJrLW5rhLIpxPW1Mr5FXu2/JJ6Ae2NHLO5BubI9J2gmLHmME9u\n",
              "qikkhiIegZ4felBFu/r/MmdPwybOjATRAAAAVgGegmpD/wAJjiyIuzIpdHapYF32luGRkAl448cN\n",
              "w51JAYeg2kh4AFf7GZi+yqzCmMz8Bw6Ki98sn1fzt7DYHlevZMYSqVNdQ3JpqlDy/qRQ1fdavTGB\n",
              "AAAC9UGah0moQWyZTAgp//7WjLAA5GuOWxABEHfBmqIQLq3OUs1VP6jvmlJMYQ68CyE3hP3dOIO8\n",
              "+67wMS2kN3rTJP/EYcC7dybeLcvJwmORo5YqWuMd0JU5J7bD5tdWuSly3C6w1sJ8iRs6Tl+5RY9H\n",
              "5hvfT4WtEuo2RfWgLvL2gFRa53rGR3JboagQLd0sOpINQQngLd+aQgWQ/dSeXDhlS6CAz05XFdwd\n",
              "j4fabtSKpejsYml3j7IxS+kAbvdlsLlVgVPQn2eWWxX/CJx29/5JlUyXBt8d9zfYheyVIi3PLAhf\n",
              "MqYIB5xfmiklYGiRCbF7k+kDZ0HevZMyuRn6yQvE6CK3oWNGx/0xYdH1WqysxNbmg3PgZ2W2/vdy\n",
              "DhErNErWc202fzpzO7VX30rOEs0U2gdlUVnMxZ/WRbQOhF3WusoKrtab5LvTf+xm8h2UeARidewS\n",
              "ayWDSutHE7Fu6JzLxQ08Knu/ODGI7K0ZXFsN31foMcnztei8f8c+Q47INxc+jpqZ/uS8wZKWzY8t\n",
              "dnNz5CRnJJrKnxQXB9yTtSbObCfVD9oAHFM66uLeKqaW/a0AdrrITEu4ye6yz6RAiyZ36vkIW0l9\n",
              "wu5rkZxCccPZ/ZGbVMb2cWxI1ZGflLPyJZN+JX8/t0WcEGMH/MUcOAZKdoCXWZb2VEKOa8+ZA6WP\n",
              "qUSovRz79WcxX88vTBAfT/4L3Y+36KG6Q55UPUbJ4HCxIiIG6NUNoDv4ddWRQocV4AYxWyDdiTVd\n",
              "nlOmAPZnvPi8BZw024rl3vDkedkb8yc/6QIm1m+xpq+84tYaKOLq39yyKWl44Dl4csMmwiG36Gbn\n",
              "cBqCXqCnuIOtCDu9+AXrW0c4PXM3osvClwkjQlVgBxEDOlELdDXD60AKeSAlXp3L1x6iSClRR3sv\n",
              "Wu+w2jniw6x9ofuSVMftp8kgWKNpIF3skVIxCpe9ZCyqloeXYd2drvmwi/7E5PhtMHVMeCI0exug\n",
              "mKoQRFf2rWgeEL+qRl9fBfF7fcEAAABxQZ6lRRUsEP8ABFOeLkpE1Cwo5cJnG4BOyElWMNwWGe17\n",
              "6PxHd8m6Uf79k3LfuAAsBaLz7tQFBvNumcd3WI5jjMrzhz9/wnftuxwfTyLr6wbr4lu1JYMvNoa3\n",
              "l89Q3/qZ1+T/pn2IVksgq/CL4+MfbQUAAABSAZ7EdEP/AAmONf7kpI16tecgKryhDUSDemS+5WVs\n",
              "g0RGEQWrqDjVCW2ABX+/puj8XKY88lZ1lo6M8OAl8fr/0Jq9HX+UbZFu0J5QpgkkbWe18QAAAE4B\n",
              "nsZqQ/8ACavCuhvrU0/5cwrLGVVmBgM+KqBI2bbEH8J36RqUEEaYUYARqUsJa9IKWJVNKpF4GJlm\n",
              "07TY5TE9Er83wFwim6kuiss9n4EAAAMeQZrLSahBbJlMCCn//taMsAHI1zXQsApDl8ra5yGVB37I\n",
              "vWulAJQRV6Nk08OunAYoPEm2nv997pQPSWu7O10oAg5/d6npJkYl0+z2Iqkpx2eOu3U5qm7sDtJt\n",
              "O4JIkLUoV+rA2ox8Pc4m9BtqmdrgVThz5j/sdn2Uf9/9KEhH8ko4ZTtz55WAA5O6qk0aLzz54O7e\n",
              "vVAzzctROzgPBkAVtQdcs2DMIYbLa8BBw1Is9+J9RCr3B2UPk08IG3U4MT10R9la2BFX6Xoj9P60\n",
              "TJ5Au7VEiHjdXKD4GfxCAjC9/mWZeUzl3sIftVbO9oRWoXy8k56WTn44SiGW55T4CWrdRmQnlyB+\n",
              "74/G0RQUOrIO1P3q3QDjT88PN9T2O/knkLY0NuaX1h1lrwF2yJcQd958dNIG9UIfA6RTDweEycB2\n",
              "Q86FCYTdXwnGAeMm+QMsxOea1pGnw9YJbeYEnnwDLbH+yTlQgGJXY6ycMxfUbSl7GHNSqFScM0vP\n",
              "D9+MbDkhyqWq0PaZWz9NWl5jjNbQYNvpKF2LHYd6VWe2NxJCnIS/IOdsdInHQ9muziKBFPCQ7yfj\n",
              "HEe2H42VVL9mjhBxLkAeQ8JdHhzzzUgO1GPlKt9Ef4ylq2mKt4TS44yg4kMNbcyMKkIVOiZ29wlQ\n",
              "K51qH4dhenW3wfCH4vX7Irc9vXG+26TxCLHZwDg36Qy1lLBWx/TbN7iUSabrVx+gwP8YcLQD6HWK\n",
              "4DqGmCUxGse8S2wU1f0cuy4zKMuYZPZuQgF39efIw9i+MYodZlmRIgl1sje4VSTMukKAErSMjlgy\n",
              "ruzr4wCsyEHIbNA8l/Zx3NOt0Vf7pNwj8Sj8EngsYeB6R4aYOBRieBVDtI/YSqa3Tau3IV9Uxn0J\n",
              "LNtWSh207Y1JOB1/tq7iwq02eC+9+hUz/fC6ClbA0k1tTdyMW/KqtXQ4ELnUW27lngGiKhYM2pVA\n",
              "mFkZY+WpgAs0hzNqnOwzgBAtO+so6TXWBX36hLQ0vazEyp3CweF+nfBBWC4ErQBn2St/CtRycqS/\n",
              "dbign1n7Jb80aSVyCbwIetgeyD+ObKFsAAAAd0Ge6UUVLBD/AAiq20SeWOeKF7jD1RJwj9egJ1Q3\n",
              "yPmE+4GVM5fE7QBlFXA8V4R1g08AAWcton6J4ZBLt8ag8ls0vefMvn+e/zL2uagtWvcKZU0GzQLN\n",
              "5awqm6ErUoCPMWZSZsMrBGEUwvH1c55l1Nxfm3T/VR9AAAAASQGfCHRD/wAJnLsEaRoboYOq1WjG\n",
              "73HfTBbIIYNmosQlAyN4TrPAnVoAtOaxBiHTcT1++dG3Rce3WfOOHX5vmHDY95Bq8fUMiNkAAABa\n",
              "AZ8KakP/ABNXgX3hATHmoZ5r3KQIOZu9xibSHk4N3bByAekjsWCDicO9MvG4O+lKOLM7wAJwn7/r\n",
              "gBTk/nyyP3NmJm7rS95XUyHLN+PDCqipTtg5KesV1R3YAAACvUGbD0moQWyZTAgp//7WjLABx1VC\n",
              "SdwANGjdK749R4FxvEVdKPaSrqVHNQXYxt3XzAMPoxpSR6Yprou5faqpMHIuHgtTJ+36wskZrl5e\n",
              "LkwCKIoReAy8ObOCD3Yl3fdaY1qtWyziVDRCIDDyy5ZemR9aUqUoCe27FGSMVfBkuePaM86Eh3AZ\n",
              "AFfm0A6SPtg7U1+BQMhTfAFEOMtoGqfo19dq+HzKs7HpD27UzRHXstF6BW2kD6kxETB76rhQ2XrP\n",
              "xVaPh87NE3j3wa84fYenmre/WhoxGIJE0xjjrMwK74bLUpKMTBMW1xUogEe/z8u+/bWVNrSrGCYB\n",
              "Tu6VZKhPFH8DGtSLfp2pAXFhL/bI8XFzjWJqYuxjEHO8gt2Xbv7VxBbb2G2P24torCRfNE/yFYER\n",
              "QmCmEoPEj//fzlv5RprqAYK+eI/kmDW5J6kFFUvxBdQqk4FSllpONIHjLAWPIWcPsBmqZAfBPQc5\n",
              "qCeyachkF6h/F4LAvBH9ycNLZKAEZW1iTK7eJTt95SrzZuyqSnaxZi2yJESKAFnjmNbsGIEDcZ9X\n",
              "1ih3oifzteg2sSF2WPILdHm9/1DAXvJNjKab2LAZy4qmdj5OD4zg8y8TLCAELGd7j1tNapeTncyx\n",
              "AegOAFfGh+UndLHG/g+VDdu0M1Io/KOtmmaWbApDGv1/iY4CmpA8x6Tc+SOr0jWaYmQPZeT0w7xq\n",
              "VD69tlKutarew7wttyDxs7+oXGX3CXchQMk/vvFJ+HB9wT+NC/dF+Uk2w77araLsHoqsrvqH7lVv\n",
              "b6YrEl4kKRZRMdwYOX5iY5qUxl0oFc+tRbXvreOdHKqYVq8pnUxiFL/A3csitGMqmLKE2r3q/2L4\n",
              "2JSzXEbVBuEdHPjkiBTV7lTfKPvBbA0Y/3CpcoTEVOEVsW93iWCKneHiDTsZiGjpjMvf5YkHAAAA\n",
              "h0GfLUUVLBD/AAiqfu5JSnpFuIWIB2RBewSxv+BrIVXyZCVkNB1PIkWjIBe1+XNwETVeMuBxm0AA\n",
              "un9Yq4cY/kiCkBEPKHeBPjs+mFsb2k/3ZlZSSdlJjliGBSctpNEYtqlmAj1pt8mIoCWuervac8Dc\n",
              "UWac9szWpIGFtgxxJTMM0c+dnwUBUQAAAE4Bn0x0Q/8AE1XKdRjc9hRNyYyxSTv2WT3czdGahPpj\n",
              "YfyApBwAJuAAd4eHmjMBNxnpokEnCGkv8nwGHT9eAi5dz3woqitWKACG0V7GJXUAAABBAZ9OakP/\n",
              "ABNXgX6iP3fDFQiWHO8X6afwqTF8cHdgGtBB2A9OWhEaa6ll83CgFQXb93B2h4DR4JPU+jma5UVh\n",
              "c4EAAAMfQZtTSahBbJlMCCn//taMsAHHW1cCI7/k8ByQAOfnnORnDov7O4wzjA6z8SUMBCS+Yqtn\n",
              "fhROAzJ7ynfWPuLG5k3AfgkQD6lm5YVboTDM8r9MHi5s8lwTC2/2tjP5Z7RH9nOMtqbH5no4aEPh\n",
              "/Xl4pGnrXaVCSn7dfxBiiy+WSVTooJ7AeQAgHQ0bPjS27MTBtpP4U8eQEVOAELqRF3rPFsXOQfRg\n",
              "X10u8wNUvz5o8zO5xG8lagaFsEie0vjjYBpv4O6BumrVtduso8ZFXbXovGtY2zF8NRNDbwic/Nix\n",
              "GF3FWiR/KRyjfak27YfVeFKADdEdWSVu7b9dh3w9iUZUU1j2ljd2aBtY7fqXcjKSNaCjnYJXbf5Y\n",
              "bZShywLNEKuk+AchnXgrtKmXeU8WsywOPa7EIAYTZ7HRXrkSsyQNP21qbYN3qWG6MC9J4AEtlCFQ\n",
              "3E+NUfLmIf9xsZQQIpYWDlvMcqgIWfXVA+zinItPLphZlbWlA5FWi5YXwxyiqULwmCT7Nm4opZ7d\n",
              "/jP3OKgNPP1o9/BM3T+I8cdVSqVmv79iZhhVtMvW4M36ZDjkOgXF6ZtPZojPOt5dEU/0IzJtkwWu\n",
              "wSriGIXMvv17LoEDs8IE/7Q5V0H24Zn9Ezp6pLdgLzocM/iwYlwNXkYt4LOppCComKUUIEBHMWiR\n",
              "kKao7BfypfMNTsuXOy4f1GKpeEj/sfPREmcZy1EE0yCieMRlSCL2ALd7Vs/pPTgPL7LICBcK07XZ\n",
              "OHSMeCcm77RxzMfcym3929NBKaJuPAqdizl9Wb9YlJiFb0MfdJG+X5CEPIufONnrFBdKqKp5S0F2\n",
              "yoFxGotuADzVwRKCjaWw1YXTud6hh6dwMJ2KZ2bbgBlwgFvM89LMrhxfhh7fdY3bPdZ/fpgHS1IO\n",
              "s7EIFbUFBA6XcIdoBHUj0R8EgMaUd85djvKGKYFsZUcd0CdibhEydutW5q3KgDajc5biBuBYLgT0\n",
              "ORWBhbrdI51qZpQ1om9zqZOvNF/LnOr7SRV9R8xbwMnCeG4PSGhiHfp/PIiNE5I7NtcPEi1sDl4A\n",
              "JBgAKNdOwAAAAGhBn3FFFSwQ/wAIqzF/oRvzfTLmNHgAE1Si7Qef2yPOcwW+ZTZRyvXEQ6ASMxU0\n",
              "OFtxEPAo4RUgAi+fnSDY7ElRAlcD+HyNL0qjGIG2kndmtnoQ1t44hfZ5MDaebiNzzJp3Tlb7xCRr\n",
              "wAAAAEUBn5B0Q/8AE1Yr5JEbUkSadiW+69KneX+RlNl2z6saUl9+MUrVHHBvUMqoKOwjRB95AjvU\n",
              "Q3dloZdQLwY+lyA05sh7wXEAAAAzAZ+SakP/AAlrx4XrX3JdFCWHJ0TDwvu9kbb/EDOaM4ILWL0h\n",
              "MCoo9vlY7I4VMT4aLVAyAAAClUGbl0moQWyZTAgp//7WjLABybU+tKbsAHHyl1rhUdEse8D8PZYq\n",
              "jDxGxXbR2rlStUQEADb6sh9Zk//5LdyN+uFA/BhTdIZ2L+lRpINx0/dnrQ9PYP+HjAvjLiYEYGT/\n",
              "gNCwLjxhMNVxhR3o/OvM/e7VCb2dWRQMAI00PbqNb4X7jE6O+uddGY9DR28Durr8HIWA+YqQCK2T\n",
              "Yb11nsZ7uFg5EfcWwQrgrRMKyn1wDbG6oSYXLVpvfsHELo40HWaANinh0mP/JhkAdGfd1mAsvhDt\n",
              "h0Ds/CIH2O/ir45RB5HWpSqR3cd8tJ9mN69lprbN0nOTH7PLFqV1ZKnEV8sDSVkc6lGavQzqg/Im\n",
              "5mc0fqNmMEv3G7ux+r3j8lbf339DmKywdDGi51oEjjVrrH1a8wD2QTxz1nCvTMXmmjvTDwENQt/e\n",
              "pgXbk14FZFAWCjeAtwYbwhVI5riPu4KOryIh4k473JVHTdBC5i9SPDxl0E+AuhMMsFiBl5PREBeP\n",
              "OdTsrDeYzs2vIJp5UTIVSEr7DTAufq3E2OFpJugFliDN/5dTTB7rrcgFaaXpSDz5exp1zB8VBRNq\n",
              "mQRFjrpO/qj2Bordaz7CzrlxuXNWcJnS9Ose6+oAhuAYd4Ov/w8ltVilTmWDdm0VcaMrZeJXoRB3\n",
              "o8oci6YBBHE6NzzqHzPd+iXEe1YKqopO1yT9HM8LDUXxdp1HI/S8KGLx4lZHV1FH9gO9J6ISuLic\n",
              "8tz69HEcFpM5N3iqZCnqewYc1LlcnE9yi3ILw+o51B62XNofaO8Wzfdhe3OeyRdu50163aiwd1th\n",
              "xOj33NpnNsdb5DSnUeAEZO/ZKX0xhYCI5qFvQexT5yNSjFNt0MgIDvenhaTIsu+nAopCxIoAAABm\n",
              "QZ+1RRUsEP8ACKdSwZAg1fjc7mGOJZjD1IETVlSDLnnz8/+TgQutBAJSq9qZThekpMMTQAJCclYM\n",
              "C7AUI72s8TXu1vVv7cuYpnHt0EFBGlLhLi34zLq6rfAF/wdc8uWBgwhT4NSBAAAATAGf1HRD/wAT\n",
              "UGO36iUTgNq0dj2vhYWah2dkHqwTVb90YlIl9ylLYg2zPuEfATJslUeTGJNdcnz0ZppC8K0tjzzi\n",
              "NJGfl8zgkpEtA8AAAAA8AZ/WakP/ABNZe0QIFGpmONyuHhYO+kktUCKMV5RIBz4G4AWTVEnvoD3T\n",
              "R+4+GPOPPbIJdf67EqocSkmBAAAC20Gb20moQWyZTAgp//7WjLABx45JgBgBYknTqZZ4sYl67wQn\n",
              "LeJTI6GHeLfvPm5Pdqbp4zyrHXt2cMJhRQZO2b8/3h1uLwklEgD7ubKwqj+L/bXjvH6n6PVuZCs6\n",
              "PuzIDOdm25XKjX+CFhQI9k0tAQMhRECgioY2DiYa9QK8bxjL6YO6cfErwOpCffqN/HksmlM1Qy/1\n",
              "m11HT+Jof66hxhGwrJw9pHsZlAtLDdNSNxHlCKZhl8GRPLo07SUz1oO81QWZBvHsvWknLioQkDCX\n",
              "vao2d6vCEm8ZJ7FPiyKSNBnEGBqJLINP99Kqm4sIbsZGv1FlEvq4BA9yDEQkuInT3ELkcwmQVotr\n",
              "9KQLrxjTVGehr2BYet9SuPLswQEjMIcvIs0wpLu2vd8/DuLJVlIqXregqC1l6h1/2Y4TVodFmGg1\n",
              "BZx1Q4kKiKHpI6+Et6c+AsWHYLd9jhLIa41UqHVvPMV9zmxDrRDK/7V7WocHLTyXsEVOWujonkaw\n",
              "mId8M/UJd3EKC/dL15BpIEL+q5kBftTGqxqR+2FbZVS5n+PucQzusOjJ1yS2Z2vUko67dktu332N\n",
              "zZB89s1PaGEGhJ5dzbMAV9CQzFkqA6OOirolKzjCAiuejZxIV53Pe8Rg6z+VQypGwjG/rSCCdQv8\n",
              "OwDotigFdTE6hXQ+GgTsYAC0HQ2nOfvL+g14B8uvvlW+BEOYnJl8JxWkw0c23HBa5FtTJtQfYkQc\n",
              "K2K2E+9S7v7ftQRNLMj3XfWJlkJCTKIrHKcs629wurdvRl3PMWfaTZBNMYw0xL1KxVxDui19Xkxm\n",
              "85JbZ4zgEpJbqHRyiuS3rFzZnUkfsjowZmYkciinQldJ+hfNMwSys4sIMqHY/q1bZIS1gx8a8h+e\n",
              "TBErnfG74sQ+1z59W5zElio43Kk94ZFr9bb6wfIxB6+Me7r8ro0HRoDnfCoPD7OglZ4TzC8b7ILO\n",
              "9HdbHU/OUwgYg2JNAAAAT0Gf+UUVLBD/AAirA74s02BVy1gOdWeukBF/Oh11cl1bPqWo1vjv2wsr\n",
              "BB9YKX+4n6IV7pAETBPdpXa/a1ifvsA6LQ5vMUhDI0KUX+zO/yAAAAA/AZ4YdEP/ABNWGKHz1MZb\n",
              "D77Nbs4Cpg4atfZqPKXfWkikkh3UDitH/+qABnX9KvY0zY8I1JaRhN0iQh2kLgpZAAAAPAGeGmpD\n",
              "/wATWItcFSbOnbRbtN2Jx1I9pr4J87OGaJedn4ooz0DQDrwlMeqDWRPyPbB6obZmlTQOuGQi4AAA\n",
              "AxZBmh9JqEFsmUwIKf/+1oywAcdCNE+oH3QAagVnInL377F3J/Ao8DU//pU4mUmflpv+RuYdrnHs\n",
              "xg9bYqFYYZk0O2+coJDZhvmwbmEZkKRI4150aXlGp2ngTxIOh4VhyHDH/HwWB4NW8TwxMjoQdgDL\n",
              "LGtMalORUMhqY17SLBpOqyMB6sMbUdtvi53Bed1GUHxXzJh4+6juCOwyd7tDFuZg3XJZAP42Dtgm\n",
              "LlG452s0QdmsO0cq54o6fhk1EEH8wWmP0n6iGtDu7r81dy0TC3PxCqCoQ1T8ssVNSGWCXKXdj6TQ\n",
              "EGqhCMPPHYJN+vS3F90QtS/H3H0hQ+TKNhfcYmPc6NRBRS0noflu0y2cjFaIY+ckzG5uKy+Uzz71\n",
              "ZISyCnu06BOTyRe0Wijwzud3abIhmjbITMQ1z9iLyjWzjCQMQCxUtKDH3vR6rXnzFFy0fI3QPuF+\n",
              "keqHPCYE70BiprkpmEYcwc5B9X/FFh7FmJUm8K/42AmmFe8DGD1XtzcGFUzrPoY+S6iA8S18Xwty\n",
              "dzuS3to4IKDIUJNb3C7bseyf4tQ4OCAYeLdudUpe8x3Dr9T3KxcmrLFoFSuklZQ97V/2rpm/48yA\n",
              "b0g6P6FKBeQF+UVTjECnBcXMm+T2wklygvkG+PFMPqcP65cusDO3SKE2ElKbWKV4TsGcxYYwVMNr\n",
              "N97uozok/2YUaupvSPACRVppD+QJ621elzUzpdHkq33VafBUVaMuGswIdGwQPoq1KaCLzg0leAex\n",
              "B6fzdtDuCvIRp+RMgYvHc/TH72ugaEAPXNuuknmeJwZ/yHWFFtBj134bzvR1NtUNshHpgyfknv8m\n",
              "eOIJI2NI4dqguBaSXfjzzRowRG3eHp+jCDjPo0Aby74N57U94OF2Y0vi+pwfuXk18u2OVrODgHFW\n",
              "7VhtAY3MMGPJfT6+O4uUcH2fI08H2631TDzXFirmzmggd1In89UPrqL7I3SwIRGbzWR67pwmXdZ3\n",
              "3Wxyir0BhLt5RD2KqiecbzpPeADMivCq9A8nZb6K7Fcldk7BoV7QO4zBcWaeneHtcNfFAAAAYEGe\n",
              "PUUVLBD/AAimNJFB8HNdfvwDjhaXNsJVQbqUq9oGv62H2aj+ZFZFw3OP9IHqk7zoM5jWFlMo/FsE\n",
              "NTXyGlgZxA45sUo4gznT5vGGOJRbjcAAtdXux5YvYqHZEqgHzQAAAD8Bnlx0Q/8AE1eOc0HfOFT7\n",
              "HQ7lytVFZxBUu6Km/kP7X/39fuKDAdrhoRDwg5on/bAtdIlBnfAfExCvooNxSTAAAAArAZ5eakP/\n",
              "ABNXjvFpm250U6J//KddQEXIdwJ9E4BegJifKLDQC+wM998hOwAAAzlBmkNJqEFsmUwIKf/+1oyw\n",
              "A48dbuuW0XoVj/K02X6komh095+2iBkQ1Pnzk+yZjOy9bY7mTvql0nuDBcOoXLUC0P5ZLlpvJNZ6\n",
              "EkkZLo3A+j77R8DI/jffYbEIVewKdxLLwrDmX4pbCQ3xH/LGCoL/TFUvX8fWoNZnzvMZQW6ronJr\n",
              "Hsdz1zoeib/sGCQ2vql1nUqHuOW4eBlU9oc+WZc9zxuuiXfJLNXhBEezfuggil0GiXnBHTPdXEfc\n",
              "OAPS7AEE09kTlcNqMjOUA9m6DmvyJtqz5p2Rz388NYpYLfuJXOPV2ySFXdrNtJrX/ug04U1+EU4w\n",
              "Ky5pO6OihotAX5IrhLPaHSywlr3czq7LDxuBkkOkO23ZnX0Z8Yyjv3CO8lJCZbdzv9CJuIe4ojZs\n",
              "yBJ2kRpJSAuf2RCm3fdXd4V6RbaAISR7sEtMWFjk7QRpDoJ4i0DpRxDZjNqIdVU8CYxua/Tys/Sc\n",
              "sZJZoSN5aeywF7oGlBpglsufhsMtcML6To8aS8Z/qPokZE+i/ZqgwQu/yAdWnpOlUaX5hz72D6ke\n",
              "Hko74CQsP/8b6RMQooy06yA2jLJzeGj4wZh48PAXV2jRQdCkNpsW3guOTOIPyqUA8Qwry1FNnf2C\n",
              "q+XVM+Wfx/qLiTmhaN9UfXL2/HH7IrqIZFq+itKLn94roceJCt/qAqwLs5wkGpSvByTV4OwPzxef\n",
              "mxr6vJx7O7efB7ym45bQgapdclqeuRJU7W2tcoQnloTcv1YElT2RUm7ahsH82FSa2WV5K5QAcPNY\n",
              "ZXGadvh9Z1l4Y2MvMh1jgQSENQoTV1FxzAuKyRnVDG+5Do2GVH/9Ys0upnB3iPgn3cOqSV7Fp4iz\n",
              "TyjJAujJjWtPBlKp3iFrRTevtTrXTojvsKkzfAujl5rmQ6y0nw4floNUkJqU04auCxuSQ1u3DnNV\n",
              "tHnsIrPfMLxxvi99roORechnQ9UV6MRotUlQk7UoMQF66C/+ky+MdSjDY92EbFK2zTNWxtbrm/mE\n",
              "MILEpAgmcdbxVqOycmz0YVbYOrZzAM7anN3t8m2+4ag23vH5JVG7CW1LdnqmW0D/EaUrDGGl8qTE\n",
              "xKazBIj0ocinZlEAAABjQZ5hRRUsEP8AEVW2jFkBnd7wJ+YihBdFI01H5v/QZudCFYOtL2lUVVTN\n",
              "AX4Gzb/7tAE/bO+cyWCx8RI5HKoM9tiYEhZlgpsYCPLHtozeWteE85PG49gScoHe5W8rcV8A/RTo\n",
              "AAAANgGegHRD/wATWXERh6MhoRTpgyRWmu+mMU7h6VX4ca8rRRiMl7aprfSQNSA74v+k3hgQuHt5\n",
              "VQAAACcBnoJqQ/8AJrL+MC2Fq+zjaQQNAXwcNi+vDyNjL7Kkyr6lfDHrC+kAAAKRQZqHSahBbJlM\n",
              "CCn//taMsAOOqnjrgAT8bLmD/c25c5/fG3oX2ZS+crQrh0u7SQupsNPEJnI8oBRtJ1hs4NojhY3H\n",
              "HcgOWTmxBtZvklFVfcbPg/HkHX5McFz/5TNSxsgBe1e6INGvyqs5/HTHSh1NzysVhQamTAX+D5Sn\n",
              "avtDLvF5B00cL4nm1snmcqYcV3A852QRMJujyyMtWGCHIDWBTjdvI7RdCNMrwL5AkoxPdMCnixJz\n",
              "T0LUq3d5jLXuTl8CZFswL1oGl3cnW/wJ6HnEDTvY++TPCZGIwRWp3l4ov3ln/xTIdgMC+Z+4lkrh\n",
              "Xe8xUwT1i/RVElDThUSGlyErHxCs3VC0WFyHUUqJ0XiSRuULi6TVG+C/ftGOSXHUogslqgauQ4zp\n",
              "kEUCqzBI0K5kCb+ANA20+G9RbNyHClkUCX3c5BH13P2pBYXyffPKswihUWK1w+QM0dEvt9BViKxi\n",
              "etb/xWgMyt/HAXatEb41JpvH9lhtsoPRCpwS3glehEqKZ9nAQQUm+nBx9QavaQSS/tX8Z10Md6ar\n",
              "dLms1MFlCy6ZyOtiH2J2/Mj9lUzLf7U+Cx9UDI9ZDQW4pbb5CKBOT2QUH9rkGWrfJjC/IYgR8I10\n",
              "yNJVs5iVWWIMLIXESmG8b0o78b75xdvuTpcN/LUQlrdt/1USsXJRp2Tey/VnO2e2jvCu5GxeFkOb\n",
              "8ByEdsBQ9TdyBaBaFf5sHKjcFb0d7gdWEy8lZlWi38EmR+dkOzC9O1eToko/KhuJhfnuNlGGffvm\n",
              "gKO6N4xLFBVIANWGSVbdA2BYRG7swoDXfzoQfVNYKfm1Fn0RV5bXCLvSLP3Tkn4zn2RuT3uQW73c\n",
              "g/jRO78ceVABpjTKfur0OpHcTxH/AAAAXEGepUUVLBD/ABFWB324iSaSd7M21zatz5huiJUi5/1p\n",
              "vw4p4qy42q733xdtrYHXtNqpdTl3MRqRUop+5USa0bCOj1k1XCaXc9ezuQ9QR22lMETbqKSX9iH2\n",
              "zcdRAAAANQGexHRD/wAmsu2VEOof7PNAzmssOz0AWEJEmQ/N1qFhX4OOidHheAHaaObTdnvog2Ne\n",
              "59G/AAAAXQGexmpD/wAmrwr3h2+PNQtIatKhz2q7IjTKZbnv1bHCUjxiI3rApg37E0JJqKVYbwfA\n",
              "C3hOQrqnmt1mOozooap5r1TRIOBMG7lcitEHLhKpIWz3jlpK8uohBLyBlwAAAm9BmstJqEFsmUwI\n",
              "J//+tSqADfWEiPFAEhgxOkFVljeiMqdtar8aNyjgG/YgGMp9AlpNMsKksLQ4BiglfwcaUWYEn9qb\n",
              "jXLt/x9tC4uKlURzbVYlLaY/44mA2VUuTlisc+0WuvJKJd7uh1COjOS1u9A1VUj+zNtArZXS1hGX\n",
              "HrKnHoZeaDrc7ciu0lJKHoj6a6GqTb8Hu8M9CVyh3hoUikQCe1RK4sCL/vFlt/nuFkrGSmpmwXkR\n",
              "9r2NEXqpvtDLEt9APKd7OLmZEld5SJyQnrQ+h2T2tYyS1v7ub4Mxx1w0Z5ytn+yMyzXlttqtpp4v\n",
              "2SFhVLwIRlDfdoY4kXhgtcuKZkelOzj/4MjFqEc44KjMxuZao+NPTB9U3/0FHlx1D58weN3S/pXG\n",
              "nql5HPDZMGJ+Lp/dRkXeVTA9Yb3+R9hAoF/xAnUnD1h2UgGg70mlqYOHXSvcK+ZiB1O22ko1+XI5\n",
              "k3OC5MWzgKQVxxVevB01zkWxLySMs+nhr9nqYocvx842xJjKdoOc1hq+WB/AeAbapf879z4laSMT\n",
              "I3OSspDqBIpE/rg3qGEQIgEpkNuctAoBMDZ6aD/jLbnTpOxOWEOgct+wzf4/azN5TK/kSmYD/lDr\n",
              "baGUZrfnHsanldIuVlmoZatTrGdNzmDiQxK8XObzbWQbBcyYnfswVq+faYD1bcD47OdB9cqw+fxP\n",
              "jIkwVACXIO628vk6BGML1CKK4Q/QPF3sZAzN0OGzKuYzdbfOY1/16hRaECy00DV4zbJ2hkWz5NCa\n",
              "cBpQbhaTofjAPK7frxNzngnuGzTmU2ZAWvKUjaJHJLKeN8fZfg2pJyToKAAAADlBnulFFSwQ/wAR\n",
              "VP8XHjeniK4H0zUeNajhq7NIHB24Ns1j45UAe23CuLYXaaENsnpSs76nCJNCVLwAAABbAZ8IdEP/\n",
              "ACasW5vmv/ITEeXKbpu91GXb4WTIAC4+rTZDnrEw47jYpFqrh+Sps/5PUYK+R33viFYYYhGBCkXW\n",
              "YxqaLSk7+MFN/NA7hMBAsS8AODHLdBO3WrfFTQAAAFsBnwpqQ/8AJq8K94dvjzIs9dQI939TUALY\n",
              "H/c2bK1jtPoZ3zg2d/qfVnw/XyP8tqUr0Nz+wYkAGxcoPOvWD6nZXvrUsZ4SbUsO2wXThcvVABVT\n",
              "HnbMdBsTbEPeAAACakGbD0moQWyZTAgn//61KoAN5zIpg5L/IeT/p9cqQvi0fnuvqcAX2CJvfeD0\n",
              "jdKS71dJ70/xF49K2X3IIHWtT6ZJVhKRe3yMfxUy67ER4uGggzQOIQhQ1fnKLUzEEC0p1OlDqDX/\n",
              "PNUgyBH3bxRpyQEHdivnhXyDGORkPNs4SF38Ob2Zn8UNxxqFMGm0VToHLC8BIPfAKj7JsgrBD8oQ\n",
              "M2B1gRwpZP68IBohXFhL0InwbKPeYmyO+SpJHVxFkyu/nsZGZ1vAIwYVjBUvlUZkd1OIjHfb3O9r\n",
              "VRbcBgju44bqI9vopRMB/xRPCXUttr8ybJJz0IENhcuJWG60bCCp6Y0t6Ufu6eEunc4wvZ1lt7Uz\n",
              "GyQZpFmJI0Rjrs6SBEIJPXCFZ5WaeRGTsYHt8SI2/nZRk3iVEfgkJ4gBZrWdXdGMEF7s/Q9H4kY5\n",
              "D5PgkIP8Fw6pzGg2j7ruNYAPBoqPSAcFDUF3EUVSEc8trE356iylnUmggmAUSEdLOEWc989EBoMQ\n",
              "KJHq+PSvQtpOMtelEINTm5Ksr7dVwHjCCtikCGnu87cKLj6chbra0zCPWoo6zfBiS2C8TQycH5rD\n",
              "RyNy7l1feYNXkqqRQPzsDbYQsPAspKNLauePxnbwUSWnU3e3Vbi//Flx2PmuVooAOSAsDEadNLnJ\n",
              "mntm2mRUUbzdP+yqf4Xa5ahPDuj2BL3dTkUPS7Ob4muYub3ApEb8uTTpcLuLLwdB4J51n7C314tB\n",
              "t80LJOzIPbjZ7Up48Kmwt2KGUOUWaXkvP9Q6nyggkNM87acAFxWeuvVXbdiPiUrr3yDQ+WndMP8s\n",
              "nigBDwAAAGpBny1FFSwQ/wARVmMdWua8i2zqsZmFeq7hZJEnvjMBvcWsAtqFVJ3cWVJOuUd0aaFE\n",
              "lBzNYbdwu5zzlqJk/+VACtVwKPFKkbl33J7l1XAcOCC1uVIwSjCz0vVqwWV3zirYVesfNBj1U6Ux\n",
              "AAAAXgGfTHRD/wAml8xLes+DY+FrMtcLlo4s3i6AQoMJ7jDRxKvhLJZe6nlh9oUh2SAC52Ct+e52\n",
              "01uggONYZzE8ropdlJdHXdz9GEw7uweKAIMxA+hb3/5urZlU2teor+EAAAB6AZ9OakP/ACatH9Zv\n",
              "njQeojP7F2Lvh7ptFEAH19b1Uc9JeNpM7lTq1ToMppcfog6TQkOT3oETycgpFbPZ05Ih8Ky4mP3A\n",
              "b8tmU7Y8WnJfpqH1btbFyQaMqdOFNruUL0ffvidnxQtGMVD8C36PMMtFFs6Bdtq7Bbe7fmkAAAH8\n",
              "QZtTSahBbJlMCCf//rUqgA31sHdOQM8YH6SQPoH2y0FsF7Yda9HUIOL1d9wN6JeOnQbzXna8ApEU\n",
              "h0fOG0nm7wWxrdREPW2FenychEo8ADq2q4KBcWw8ejUYkpHMNRummpfqALBNZTMRFsoPxyoie3gq\n",
              "zU/F3So+6UVAMljc8bKspdYjdmQ9JAJ8GGOsQluMuKRiRdaMpwUqur1Z4Qza1PWn6N6h2D5w9f2w\n",
              "P6EUEGvhfH7s9g4ZlS7tR+qhdWxVZFxWTM5hiSZ/9CUsvw+RhV2FpYvivNpwFhd2svI96nkfvACU\n",
              "ekh6+zTdYfvC01795uzGoeJCIxHUv3EHcO/EOa8Vifos9oRSxFP1T8Z+/McaEdSa7qO+mUaSDBBX\n",
              "MwPUvcTfdSsLKxUhG4RCYdymayw2YyQmDYrmiqs7b2hvytATC73lt9fKqGZTWkCk+Po1u+8K0PWB\n",
              "5dKMUn3q9s5HUexTpakYnu8mCk2E0t1pCmhNMLFKBcbHGnqqxeL6wualjovalkTwY9zjH3wmF47M\n",
              "f7k3oM5daQxTcgANe6EJ2qKnRE/KaRos7pAlcyrBm8lmAdsslyShnvqbJc+xRkFvxUfUotQVjtA7\n",
              "q1ANqrK8TzEwB5wOYQtI4eqYw/qzmiLtGJ993Bz5SvvPyvAIDnLdHzdYeLZdmdvqgU8CwAAAAGxB\n",
              "n3FFFSwQ/wARVQIPvjiRFF6cyjwBUES1Ynwrqt3jH0vX1vsWW0VniDKDBmTnoINmYr8YYtFgZFW/\n",
              "xu1YAaq+vEoJEcPKu0xBuUcOALVB9xcXWve5uh079I/yjbQknD+q3wIVMESP2ExPmV0AAABGAZ+Q\n",
              "dEP/ACay2cssGXK6PQRybgb/gKI2oBT1jnCRmgMIviifG4FZnfpqj1xOcpja3SWvmHl0+WdWXb8g\n",
              "ijbZXj1x78TptwAAAFUBn5JqQ/8AJq6kuL/SmmyFXKeZXi8joEsS9SvKGEsKifnBojo5ghXD3RhU\n",
              "lD+DwKI0IbzSvinQbZ6zhnLhIO9IJHPoJuPGksCqKp5A39KXNi4+90+AAAABtUGblUmoQWyZTBRM\n",
              "E//+tSqADec20jcADZMb6qb2/HHSEc8wXAD858815ABEyUP9bM9IDexObf8E1/QgxX0oj4bRbu+e\n",
              "1nTJeL4hnA6mJgvX0RCQdkYyMqkDH+Up5YszewC8CTPZg/niTYQfiYumXVI6efN3KeEaBKO1R2SQ\n",
              "mxUeBNArZE+O8v9Pht/RG3j0/cjlg5GgH3K0x4Wyopq4iyLC4w70jeu4aERCr3hKYpvkVOlurtJR\n",
              "K1L1F9MLgR0m25/yRCZa3wIM2uQYb9NTCfbn23ztau0GX3KaRT88LplHTQpZOR9bT94+rqgOTuh1\n",
              "mJjp2FKqOQzIGi9aVrTjDl6PpEa5ikLmxmh6m03AvI+94ECrHKFEOE6o++Mn2Zv17Q2k4TaRy7lS\n",
              "z6b/CG07rpDefED8W840SpNNDNuaf9GnUYSbgWNEzGWwSbK+JYvc8UWaG/1Qsohi7NqYh1gjT2lr\n",
              "McEGglwLxdXmZIBqKX5JX5V144PzRKDTqZPRQlnuB9uz/x1Dd1y8tFgnECDofJepi+a1/r1/FS8K\n",
              "npUF9KkGu9DD0rI8Zf0hiOIVJnGBB5816EfMAAAASQGftGpD/wAmrwrqs/b+LgheT2kb5xn2Vom2\n",
              "iBvbxpgCmjH5A1fSQQLXwE4tfXg3bt2Fpc60bmnvzfKTf7Jljj9jrJzlqkvAkoEAAAHcQZu5SeEK\n",
              "UmUwIJ///rUqgCEXJ//HJ8kALZCzObQ6294DvYBJtZC5iVW2vG2QuSlWKHfjPOz3P7IhXt+bWDkJ\n",
              "fd6riO2RuUdx+4BjuVtbLOfWMBENTruH+SZSfypfvQTIjB/mQbiGfslUMj2fT9XMOSa0vjq33L05\n",
              "WDxid9wTaV+QmMtRQ7UsR5AOgbPQqv0pnADdi0egW7QfMS7Fk+ZNunnaTy7W07eQYwLVs7K+HByk\n",
              "g2PQACdUuHkGF/pTQNYIS8Vk46GR4XQKMObJWuJMiZ20Uay8gzy+uWa9m3DtSRRpVDyFvNmegKo0\n",
              "uP4oPu+yWp290oRn36grWEur2zkBdY4vb6pTIxmw+DdpNaDU+x/snEeYYIptK28ersz6rOav21Tf\n",
              "ITyR0XFjaFEh7ruaGXy77R8lcdimPiWiOfMk1C+fyMgr3XnQbP7wLDRRZzWw9TGk9kfshKNxpLVD\n",
              "SpgGqrnmSocwj4JeCiD4LFcB2ZIbI91D/Q09m47x61GO4BQ+avLPFOdY6XxUTreNnLeH1BJOZ54f\n",
              "xhrnSB4iHwx2qVJM9RFtrIpZPCWMbZpqPf7j57M++3wxcpGCmZzdLRyIwfPno9e1KNVD40fxiQvM\n",
              "OqAwC+17Ci3FCB9qpogAAABZQZ/XRTRMEP8AIottG6uf3SfwFibmUgRtU1+Umt8wUVj2YVZVFmJJ\n",
              "N+C47GRtNNNaf/7KADhj4IEz3x/gFxoMO98jLOcu962IdpB7DiE73tH1mP9olSjkaUEAAAA+AZ/2\n",
              "dEP/ACay4jfBJHU3+/w2QvzUabibAVo29jfUbmkqtkucK2PORDD8BvINm3wh04oFYO7vZemYHy98\n",
              "gIEAAABCAZ/4akP/AEy5IBqDvCvrR55fXDYpYK4dP1SzJN1sdpW9atpcRnv0+apZXgxlM0pNp5ZU\n",
              "jmVVoJN4Cba3JvWE6b82AAABy0Gb/UmoQWiZTAgn//61KoAhEmzJLgAWy9699Msa4oHvSDE7DYJl\n",
              "4SR3b0uBG8J0KzxPFXNlF1ia3ViQRIQ0YAApJmChMkU0sWQMS2S4/T00UREA83GutcRukKib2N33\n",
              "ttUPp2f67l1uG9YXbU7ljUPAqpelRNeg/Zs8+OpjgoKxtmbfzOgI3bW+keOumoqP7Ij7ulTPaR7I\n",
              "94mQnB3mQlg2z295wrU0jYVPS21RRzJrtOY/RLzAyqeC5DZxdg1OEGxPa6RYOEd6TYTFBBb6xfmZ\n",
              "j8mFGgi0ocyKAJcjeIvfm4DKeQBHeDtlrHsePLkhbSrw3AJxujlyw9Ok7TLwWT+p0F78bRHbZqbS\n",
              "dPma20Zqn0s1lHbD0cjAM7n83kvLfEAj6gXzLNJbP7GmNKh1009ly+B0eBA7aX2TyUUh8r9cpSc1\n",
              "zE+zlrOpPZqAkKm43070rt2nbdWQSk8BakQQoKpksfy0Ar3QESwjgj0UA0MxxnFDYS9gLtCmddlp\n",
              "oc3OGduU26JJIH+5axkbx/j6OV3lz0cZ133jdsz/r5ouMvO/TLSJ5eSMDxwuMMSuFXVpYBr6zCYt\n",
              "pcrgp4KD3/ai5qrEVOrghyRpki9tiwAAAFRBnhtFESwQ/wAieNDs2b1Nbd30qCsNiLYNp/nIogKO\n",
              "KK0uyBzUtPY5zM0vNfPeHoSkPrXgsa4hSh6ebAyDHrc+thh/Jczth34JLiHTPBVT9Y2mTnwAAABC\n",
              "AZ46dEP/ACay4jePFDaP4bJspKrOPAYgzGulP7IpB2Le4BgNkWjmIULA0NMI5yKeAiQ96bkAfaWo\n",
              "hVxLjsh3dospAAAAJwGePGpD/wBMyp++ecJNAbCiIVy2njLrLrM64n22RxLarvcq6oYW8QAAAOZB\n",
              "miFJqEFsmUwII//+tSqAIQpsSzOGKF1T38qjZig5bQdjAEEoqPBryErQ1avB/LQr+pFjwn3A5Osa\n",
              "MAAuq4qH5XLQM4BENUQMAAQMm/S+zNdQ23hvOqkWcfxBAa2ZU5xhwsNyVhCuFMLt4VnMvBf29yeB\n",
              "C9EGEAHa6M6EloU6fjS10eh1Pgaiyaxn1LMJ+rWnPsySpc9xgez4C9mmDJgkSH/0fr4iYKLhgcut\n",
              "4wJp6qZfDkMH6oaSPlifOsdw0El76+c9pZh4Kd/g3qhF9wNoD0o7IbOjhP7+VLCp/skA7f+fKvgj\n",
              "OgAAAFtBnl9FFSwQ/wAigU61iKZgYk9XM43DYQGLvjFDR8JCmsYh67aBIzcCufuS5VPv6XxTEXzP\n",
              "ZIAFsstZvNcPh4HlzOxtzFTG9eoLQa9ykykxdQDeOMrxST13VBCQAAAAQQGefnRD/wBM0NalnPQb\n",
              "Jo25FQdrNDzc/kiRaALpPzdQKsfWQMqM0Ym6uzsnsQOmnaMZloDbIDxupJmJToNVkvZhAAAAQwGe\n",
              "YGpD/wAa/x35xcu31evH09EPLA8bahc3uTahC/3sW+FndbMZht2Wo9n2kRzCWwgk7IDxupJmu85E\n",
              "DNpcDD3/YEAAAAB0QZpjSahBbJlMFEw///6plgD67kZOlxSPy3V+TZvE7uqAoSLD2stot5ux1O0j\n",
              "P8VA+SQ1MGvEbOGZsMzVHgEKggNE6neA8sc5zzzkdEUoDfTKWeupTTjIS0LMSaG9TT8hEoAPyavV\n",
              "xQ6dKKt/x+c5+JiAyoEAAABLAZ6CakP/ACWytGXNWsZY8rrLw9YXe1HuJvfh8yNJtxRI6FVmjNeg\n",
              "qSOF8fZ1AQ/khaJkDne5SdkB43UkzZurKLcKAsZ1mCHDxpCAAAAH1m1vb3YAAABsbXZoZAAAAAAA\n",
              "AAAAAAAAAAAAA+gAAE4gAAEAAAEAAAAAAAAAAAAAAAABAAAAAAAAAAAAAAAAAAAAAQAAAAAAAAAA\n",
              "AAAAAAAAQAAAAAAAAAAAAAAAAAAAAAAAAAAAAAAAAAAAAAAAAAIAAAcAdHJhawAAAFx0a2hkAAAA\n",
              "AwAAAAAAAAAAAAAAAQAAAAAAAE4gAAAAAAAAAAAAAAAAAAAAAAABAAAAAAAAAAAAAAAAAAAAAQAA\n",
              "AAAAAAAAAAAAAAAAQAAAAAGwAAABIAAAAAAAJGVkdHMAAAAcZWxzdAAAAAAAAAABAABOIAAAEAAA\n",
              "AQAAAAAGeG1kaWEAAAAgbWRoZAAAAAAAAAAAAAAAAAAAKAAAAyAAVcQAAAAAAC1oZGxyAAAAAAAA\n",
              "AAB2aWRlAAAAAAAAAAAAAAAAVmlkZW9IYW5kbGVyAAAABiNtaW5mAAAAFHZtaGQAAAABAAAAAAAA\n",
              "AAAAAAAkZGluZgAAABxkcmVmAAAAAAAAAAEAAAAMdXJsIAAAAAEAAAXjc3RibAAAALNzdHNkAAAA\n",
              "AAAAAAEAAACjYXZjMQAAAAAAAAABAAAAAAAAAAAAAAAAAAAAAAGwASAASAAAAEgAAAAAAAAAAQAA\n",
              "AAAAAAAAAAAAAAAAAAAAAAAAAAAAAAAAAAAAAAAAABj//wAAADFhdmNDAWQAFf/hABhnZAAVrNlB\n",
              "sJaEAAADAAQAAAMAKDxYtlgBAAZo6+PLIsAAAAAcdXVpZGtoQPJfJE/FujmlG88DI/MAAAAAAAAA\n",
              "GHN0dHMAAAAAAAAAAQAAAGQAAAgAAAAAFHN0c3MAAAAAAAAAAQAAAAEAAAMoY3R0cwAAAAAAAABj\n",
              "AAAAAQAAEAAAAAABAAAYAAAAAAEAAAgAAAAAAQAAEAAAAAABAAAYAAAAAAEAAAgAAAAAAgAAEAAA\n",
              "AAABAAAYAAAAAAEAAAgAAAAAAQAAGAAAAAABAAAIAAAAAAEAACgAAAAAAQAAEAAAAAABAAAAAAAA\n",
              "AAEAAAgAAAAAAQAAKAAAAAABAAAQAAAAAAEAAAAAAAAAAQAACAAAAAABAAAoAAAAAAEAABAAAAAA\n",
              "AQAAAAAAAAABAAAIAAAAAAEAACgAAAAAAQAAEAAAAAABAAAAAAAAAAEAAAgAAAAAAQAAKAAAAAAB\n",
              "AAAQAAAAAAEAAAAAAAAAAQAACAAAAAABAAAoAAAAAAEAABAAAAAAAQAAAAAAAAABAAAIAAAAAAEA\n",
              "ACgAAAAAAQAAEAAAAAABAAAAAAAAAAEAAAgAAAAAAQAAKAAAAAABAAAQAAAAAAEAAAAAAAAAAQAA\n",
              "CAAAAAABAAAoAAAAAAEAABAAAAAAAQAAAAAAAAABAAAIAAAAAAEAACgAAAAAAQAAEAAAAAABAAAA\n",
              "AAAAAAEAAAgAAAAAAQAAKAAAAAABAAAQAAAAAAEAAAAAAAAAAQAACAAAAAABAAAoAAAAAAEAABAA\n",
              "AAAAAQAAAAAAAAABAAAIAAAAAAEAACgAAAAAAQAAEAAAAAABAAAAAAAAAAEAAAgAAAAAAQAAKAAA\n",
              "AAABAAAQAAAAAAEAAAAAAAAAAQAACAAAAAABAAAoAAAAAAEAABAAAAAAAQAAAAAAAAABAAAIAAAA\n",
              "AAEAACgAAAAAAQAAEAAAAAABAAAAAAAAAAEAAAgAAAAAAQAAKAAAAAABAAAQAAAAAAEAAAAAAAAA\n",
              "AQAACAAAAAABAAAoAAAAAAEAABAAAAAAAQAAAAAAAAABAAAIAAAAAAEAABgAAAAAAQAACAAAAAAB\n",
              "AAAoAAAAAAEAABAAAAAAAQAAAAAAAAABAAAIAAAAAAEAACgAAAAAAQAAEAAAAAABAAAAAAAAAAEA\n",
              "AAgAAAAAAQAAKAAAAAABAAAQAAAAAAEAAAAAAAAAAQAACAAAAAABAAAYAAAAAAEAAAgAAAAAHHN0\n",
              "c2MAAAAAAAAAAQAAAAEAAABkAAAAAQAAAaRzdHN6AAAAAAAAAAAAAABkAAAUhAAABu0AAAGlAAAD\n",
              "hAAABBcAAACCAAACbwAAAxQAAAM6AAAAZQAAArkAAABzAAADrgAAAH0AAABeAAAATwAAA8cAAACS\n",
              "AAAARgAAAFMAAANtAAAAgQAAAFQAAAA+AAADRwAAAKYAAABdAAAATwAAAxMAAACAAAAAWgAAAFgA\n",
              "AAKkAAAAfQAAAEgAAABaAAAC+QAAAHUAAABWAAAAUgAAAyIAAAB7AAAATQAAAF4AAALBAAAAiwAA\n",
              "AFIAAABFAAADIwAAAGwAAABJAAAANwAAApkAAABqAAAAUAAAAEAAAALfAAAAUwAAAEMAAABAAAAD\n",
              "GgAAAGQAAABDAAAALwAAAz0AAABnAAAAOgAAACsAAAKVAAAAYAAAADkAAABhAAACcwAAAD0AAABf\n",
              "AAAAXwAAAm4AAABuAAAAYgAAAH4AAAIAAAAAcAAAAEoAAABZAAABuQAAAE0AAAHgAAAAXQAAAEIA\n",
              "AABGAAABzwAAAFgAAABGAAAAKwAAAOoAAABfAAAARQAAAEcAAAB4AAAATwAAABRzdGNvAAAAAAAA\n",
              "AAEAAAAsAAAAYnVkdGEAAABabWV0YQAAAAAAAAAhaGRscgAAAAAAAAAAbWRpcmFwcGwAAAAAAAAA\n",
              "AAAAAAAtaWxzdAAAACWpdG9vAAAAHWRhdGEAAAABAAAAAExhdmY1Ny44My4xMDA=\n",
              "\">\n",
              "  Your browser does not support the video tag.\n",
              "</video>"
            ],
            "text/plain": [
              "<IPython.core.display.HTML object>"
            ]
          },
          "metadata": {},
          "execution_count": 712
        }
      ]
    }
  ]
}